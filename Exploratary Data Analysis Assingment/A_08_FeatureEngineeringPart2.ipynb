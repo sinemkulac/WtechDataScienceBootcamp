{
 "cells": [
  {
   "cell_type": "markdown",
   "metadata": {},
   "source": [
    "# <font color=blue>Assignments for \"Feature Engineering - Part 2\"</font>"
   ]
  },
  {
   "cell_type": "markdown",
   "metadata": {},
   "source": [
    "In this assignment, you are going to use a dataset related to the US education system. Please download the ([dataset](https://www.kaggle.com/noriuk/us-education-datasets-unification-project/home)) from Kaggle. You are going to use `states_all.csv` within this dataset.\n",
    "\n",
    "To complete this assignment, submit the Github link of the Jupyter notebook file containing solutions to the questions below. You can talk to your mentor on your head or ask Slack at office time.\n"
   ]
  },
  {
   "cell_type": "code",
   "execution_count": 1,
   "metadata": {},
   "outputs": [],
   "source": [
    "import pandas as pd\n",
    "import numpy as np\n",
    "from pandas.api.types import is_numeric_dtype\n",
    "import seaborn as sns\n",
    "\n",
    "states = pd.read_csv(\"E:/user/Notebooks/data/states_all.csv\")\n"
   ]
  },
  {
   "cell_type": "code",
   "execution_count": 4,
   "metadata": {},
   "outputs": [],
   "source": [
    "fill_list = [\"ENROLL\", \"TOTAL_REVENUE\", \"FEDERAL_REVENUE\",\n",
    "             \"STATE_REVENUE\", \"LOCAL_REVENUE\", \"TOTAL_EXPENDITURE\",\n",
    "             \"INSTRUCTION_EXPENDITURE\", \"SUPPORT_SERVICES_EXPENDITURE\",\n",
    "             \"OTHER_EXPENDITURE\", \"CAPITAL_OUTLAY_EXPENDITURE\", \"GRADES_PK_G\",\n",
    "             \"GRADES_KG_G\", \"GRADES_4_G\", \"GRADES_8_G\", \"GRADES_12_G\", \"GRADES_1_8_G\",\n",
    "             \"GRADES_9_12_G\", \"GRADES_ALL_G\"]\n",
    "\n",
    "state = states[\"STATE\"].unique()\n",
    "\n",
    "for state in state:\n",
    "    states.loc[states[\"STATE\"] == state, fill_list] = states.loc[states[\"STATE\"] == state, fill_list].interpolate()\n",
    "\n",
    "# we drop the null values after interpolation\n",
    "states.dropna(inplace=True)"
   ]
  },
  {
   "cell_type": "markdown",
   "metadata": {},
   "source": [
    "**(1)** Create a variable that contains the weighted average of the grades in the dataset. The number of students in the fourth grade is different from that of the eighth grade. So you will need a weighted average!"
   ]
  },
  {
   "cell_type": "code",
   "execution_count": 5,
   "metadata": {},
   "outputs": [],
   "source": [
    "states[\"overall_score\"] = (states[\"GRADES_4_G\"]* \n",
    "                                 ((states[\"AVG_MATH_4_SCORE\"] + states[\"AVG_READING_4_SCORE\"]) * 0.5) + \n",
    "                                 states[\"GRADES_8_G\"]\n",
    "                                 * ((states[\"AVG_MATH_8_SCORE\"] + \n",
    "                                     states[\"AVG_READING_8_SCORE\"]) * \n",
    "                                    0.5))/ (states[\"GRADES_4_G\"] + states[\"GRADES_8_G\"])"
   ]
  },
  {
   "cell_type": "markdown",
   "metadata": {},
   "source": [
    "**(2)** What is the correlation between the variable you just created and the types of expenditures? Which expenditure item has more correlation than others?"
   ]
  },
  {
   "cell_type": "code",
   "execution_count": 6,
   "metadata": {},
   "outputs": [
    {
     "data": {
      "text/html": [
       "<div>\n",
       "<style scoped>\n",
       "    .dataframe tbody tr th:only-of-type {\n",
       "        vertical-align: middle;\n",
       "    }\n",
       "\n",
       "    .dataframe tbody tr th {\n",
       "        vertical-align: top;\n",
       "    }\n",
       "\n",
       "    .dataframe thead th {\n",
       "        text-align: right;\n",
       "    }\n",
       "</style>\n",
       "<table border=\"1\" class=\"dataframe\">\n",
       "  <thead>\n",
       "    <tr style=\"text-align: right;\">\n",
       "      <th></th>\n",
       "      <th>overall_score</th>\n",
       "      <th>TOTAL_EXPENDITURE</th>\n",
       "      <th>INSTRUCTION_EXPENDITURE</th>\n",
       "      <th>SUPPORT_SERVICES_EXPENDITURE</th>\n",
       "      <th>OTHER_EXPENDITURE</th>\n",
       "      <th>CAPITAL_OUTLAY_EXPENDITURE</th>\n",
       "    </tr>\n",
       "  </thead>\n",
       "  <tbody>\n",
       "    <tr>\n",
       "      <th>overall_score</th>\n",
       "      <td>1.000000</td>\n",
       "      <td>0.028573</td>\n",
       "      <td>0.045707</td>\n",
       "      <td>0.030917</td>\n",
       "      <td>-0.031047</td>\n",
       "      <td>-0.054539</td>\n",
       "    </tr>\n",
       "    <tr>\n",
       "      <th>TOTAL_EXPENDITURE</th>\n",
       "      <td>0.028573</td>\n",
       "      <td>1.000000</td>\n",
       "      <td>0.989720</td>\n",
       "      <td>0.992138</td>\n",
       "      <td>0.943475</td>\n",
       "      <td>0.920948</td>\n",
       "    </tr>\n",
       "    <tr>\n",
       "      <th>INSTRUCTION_EXPENDITURE</th>\n",
       "      <td>0.045707</td>\n",
       "      <td>0.989720</td>\n",
       "      <td>1.000000</td>\n",
       "      <td>0.972288</td>\n",
       "      <td>0.898873</td>\n",
       "      <td>0.877377</td>\n",
       "    </tr>\n",
       "    <tr>\n",
       "      <th>SUPPORT_SERVICES_EXPENDITURE</th>\n",
       "      <td>0.030917</td>\n",
       "      <td>0.992138</td>\n",
       "      <td>0.972288</td>\n",
       "      <td>1.000000</td>\n",
       "      <td>0.953311</td>\n",
       "      <td>0.904419</td>\n",
       "    </tr>\n",
       "    <tr>\n",
       "      <th>OTHER_EXPENDITURE</th>\n",
       "      <td>-0.031047</td>\n",
       "      <td>0.943475</td>\n",
       "      <td>0.898873</td>\n",
       "      <td>0.953311</td>\n",
       "      <td>1.000000</td>\n",
       "      <td>0.916780</td>\n",
       "    </tr>\n",
       "    <tr>\n",
       "      <th>CAPITAL_OUTLAY_EXPENDITURE</th>\n",
       "      <td>-0.054539</td>\n",
       "      <td>0.920948</td>\n",
       "      <td>0.877377</td>\n",
       "      <td>0.904419</td>\n",
       "      <td>0.916780</td>\n",
       "      <td>1.000000</td>\n",
       "    </tr>\n",
       "  </tbody>\n",
       "</table>\n",
       "</div>"
      ],
      "text/plain": [
       "                              overall_score  TOTAL_EXPENDITURE  \\\n",
       "overall_score                      1.000000           0.028573   \n",
       "TOTAL_EXPENDITURE                  0.028573           1.000000   \n",
       "INSTRUCTION_EXPENDITURE            0.045707           0.989720   \n",
       "SUPPORT_SERVICES_EXPENDITURE       0.030917           0.992138   \n",
       "OTHER_EXPENDITURE                 -0.031047           0.943475   \n",
       "CAPITAL_OUTLAY_EXPENDITURE        -0.054539           0.920948   \n",
       "\n",
       "                              INSTRUCTION_EXPENDITURE  \\\n",
       "overall_score                                0.045707   \n",
       "TOTAL_EXPENDITURE                            0.989720   \n",
       "INSTRUCTION_EXPENDITURE                      1.000000   \n",
       "SUPPORT_SERVICES_EXPENDITURE                 0.972288   \n",
       "OTHER_EXPENDITURE                            0.898873   \n",
       "CAPITAL_OUTLAY_EXPENDITURE                   0.877377   \n",
       "\n",
       "                              SUPPORT_SERVICES_EXPENDITURE  OTHER_EXPENDITURE  \\\n",
       "overall_score                                     0.030917          -0.031047   \n",
       "TOTAL_EXPENDITURE                                 0.992138           0.943475   \n",
       "INSTRUCTION_EXPENDITURE                           0.972288           0.898873   \n",
       "SUPPORT_SERVICES_EXPENDITURE                      1.000000           0.953311   \n",
       "OTHER_EXPENDITURE                                 0.953311           1.000000   \n",
       "CAPITAL_OUTLAY_EXPENDITURE                        0.904419           0.916780   \n",
       "\n",
       "                              CAPITAL_OUTLAY_EXPENDITURE  \n",
       "overall_score                                  -0.054539  \n",
       "TOTAL_EXPENDITURE                               0.920948  \n",
       "INSTRUCTION_EXPENDITURE                         0.877377  \n",
       "SUPPORT_SERVICES_EXPENDITURE                    0.904419  \n",
       "OTHER_EXPENDITURE                               0.916780  \n",
       "CAPITAL_OUTLAY_EXPENDITURE                      1.000000  "
      ]
     },
     "execution_count": 6,
     "metadata": {},
     "output_type": "execute_result"
    }
   ],
   "source": [
    "states[[\"overall_score\", \"TOTAL_EXPENDITURE\", \"INSTRUCTION_EXPENDITURE\",\n",
    "              \"SUPPORT_SERVICES_EXPENDITURE\", \"OTHER_EXPENDITURE\", \"CAPITAL_OUTLAY_EXPENDITURE\"]].corr()"
   ]
  },
  {
   "cell_type": "markdown",
   "metadata": {},
   "source": [
    "**(3)** Now apply the Principal Components Analysis (PCA) for the four expenditure items! How much of the total variance can be explained by the first component?"
   ]
  },
  {
   "cell_type": "code",
   "execution_count": 10,
   "metadata": {},
   "outputs": [
    {
     "name": "stdout",
     "output_type": "stream",
     "text": [
      "[0.94053166]\n"
     ]
    }
   ],
   "source": [
    "from sklearn.decomposition import PCA\n",
    "from sklearn.preprocessing import StandardScaler\n",
    "\n",
    "X = states[[\"INSTRUCTION_EXPENDITURE\", \"SUPPORT_SERVICES_EXPENDITURE\",\n",
    "                  \"OTHER_EXPENDITURE\", \"CAPITAL_OUTLAY_EXPENDITURE\"]]\n",
    "\n",
    "X = StandardScaler().fit_transform(X)\n",
    "\n",
    "sklearn_pca = PCA(n_components=1)\n",
    "states[\"pca_1\"] = sklearn_pca.fit_transform(X)\n",
    "\n",
    "print(sklearn_pca.explained_variance_ratio_)"
   ]
  },
  {
   "cell_type": "markdown",
   "metadata": {},
   "source": [
    "**(4)** What is the correlation between the GPA you created and the first principal component?"
   ]
  },
  {
   "cell_type": "code",
   "execution_count": 11,
   "metadata": {},
   "outputs": [
    {
     "data": {
      "text/html": [
       "<div>\n",
       "<style scoped>\n",
       "    .dataframe tbody tr th:only-of-type {\n",
       "        vertical-align: middle;\n",
       "    }\n",
       "\n",
       "    .dataframe tbody tr th {\n",
       "        vertical-align: top;\n",
       "    }\n",
       "\n",
       "    .dataframe thead th {\n",
       "        text-align: right;\n",
       "    }\n",
       "</style>\n",
       "<table border=\"1\" class=\"dataframe\">\n",
       "  <thead>\n",
       "    <tr style=\"text-align: right;\">\n",
       "      <th></th>\n",
       "      <th>overall_score</th>\n",
       "      <th>pca_1</th>\n",
       "      <th>TOTAL_EXPENDITURE</th>\n",
       "      <th>INSTRUCTION_EXPENDITURE</th>\n",
       "      <th>SUPPORT_SERVICES_EXPENDITURE</th>\n",
       "      <th>OTHER_EXPENDITURE</th>\n",
       "      <th>CAPITAL_OUTLAY_EXPENDITURE</th>\n",
       "    </tr>\n",
       "  </thead>\n",
       "  <tbody>\n",
       "    <tr>\n",
       "      <th>overall_score</th>\n",
       "      <td>1.000000</td>\n",
       "      <td>-0.001974</td>\n",
       "      <td>0.028573</td>\n",
       "      <td>0.045707</td>\n",
       "      <td>0.030917</td>\n",
       "      <td>-0.031047</td>\n",
       "      <td>-0.054539</td>\n",
       "    </tr>\n",
       "    <tr>\n",
       "      <th>pca_1</th>\n",
       "      <td>-0.001974</td>\n",
       "      <td>1.000000</td>\n",
       "      <td>0.991716</td>\n",
       "      <td>0.966589</td>\n",
       "      <td>0.987655</td>\n",
       "      <td>0.971726</td>\n",
       "      <td>0.952952</td>\n",
       "    </tr>\n",
       "    <tr>\n",
       "      <th>TOTAL_EXPENDITURE</th>\n",
       "      <td>0.028573</td>\n",
       "      <td>0.991716</td>\n",
       "      <td>1.000000</td>\n",
       "      <td>0.989720</td>\n",
       "      <td>0.992138</td>\n",
       "      <td>0.943475</td>\n",
       "      <td>0.920948</td>\n",
       "    </tr>\n",
       "    <tr>\n",
       "      <th>INSTRUCTION_EXPENDITURE</th>\n",
       "      <td>0.045707</td>\n",
       "      <td>0.966589</td>\n",
       "      <td>0.989720</td>\n",
       "      <td>1.000000</td>\n",
       "      <td>0.972288</td>\n",
       "      <td>0.898873</td>\n",
       "      <td>0.877377</td>\n",
       "    </tr>\n",
       "    <tr>\n",
       "      <th>SUPPORT_SERVICES_EXPENDITURE</th>\n",
       "      <td>0.030917</td>\n",
       "      <td>0.987655</td>\n",
       "      <td>0.992138</td>\n",
       "      <td>0.972288</td>\n",
       "      <td>1.000000</td>\n",
       "      <td>0.953311</td>\n",
       "      <td>0.904419</td>\n",
       "    </tr>\n",
       "    <tr>\n",
       "      <th>OTHER_EXPENDITURE</th>\n",
       "      <td>-0.031047</td>\n",
       "      <td>0.971726</td>\n",
       "      <td>0.943475</td>\n",
       "      <td>0.898873</td>\n",
       "      <td>0.953311</td>\n",
       "      <td>1.000000</td>\n",
       "      <td>0.916780</td>\n",
       "    </tr>\n",
       "    <tr>\n",
       "      <th>CAPITAL_OUTLAY_EXPENDITURE</th>\n",
       "      <td>-0.054539</td>\n",
       "      <td>0.952952</td>\n",
       "      <td>0.920948</td>\n",
       "      <td>0.877377</td>\n",
       "      <td>0.904419</td>\n",
       "      <td>0.916780</td>\n",
       "      <td>1.000000</td>\n",
       "    </tr>\n",
       "  </tbody>\n",
       "</table>\n",
       "</div>"
      ],
      "text/plain": [
       "                              overall_score     pca_1  TOTAL_EXPENDITURE  \\\n",
       "overall_score                      1.000000 -0.001974           0.028573   \n",
       "pca_1                             -0.001974  1.000000           0.991716   \n",
       "TOTAL_EXPENDITURE                  0.028573  0.991716           1.000000   \n",
       "INSTRUCTION_EXPENDITURE            0.045707  0.966589           0.989720   \n",
       "SUPPORT_SERVICES_EXPENDITURE       0.030917  0.987655           0.992138   \n",
       "OTHER_EXPENDITURE                 -0.031047  0.971726           0.943475   \n",
       "CAPITAL_OUTLAY_EXPENDITURE        -0.054539  0.952952           0.920948   \n",
       "\n",
       "                              INSTRUCTION_EXPENDITURE  \\\n",
       "overall_score                                0.045707   \n",
       "pca_1                                        0.966589   \n",
       "TOTAL_EXPENDITURE                            0.989720   \n",
       "INSTRUCTION_EXPENDITURE                      1.000000   \n",
       "SUPPORT_SERVICES_EXPENDITURE                 0.972288   \n",
       "OTHER_EXPENDITURE                            0.898873   \n",
       "CAPITAL_OUTLAY_EXPENDITURE                   0.877377   \n",
       "\n",
       "                              SUPPORT_SERVICES_EXPENDITURE  OTHER_EXPENDITURE  \\\n",
       "overall_score                                     0.030917          -0.031047   \n",
       "pca_1                                             0.987655           0.971726   \n",
       "TOTAL_EXPENDITURE                                 0.992138           0.943475   \n",
       "INSTRUCTION_EXPENDITURE                           0.972288           0.898873   \n",
       "SUPPORT_SERVICES_EXPENDITURE                      1.000000           0.953311   \n",
       "OTHER_EXPENDITURE                                 0.953311           1.000000   \n",
       "CAPITAL_OUTLAY_EXPENDITURE                        0.904419           0.916780   \n",
       "\n",
       "                              CAPITAL_OUTLAY_EXPENDITURE  \n",
       "overall_score                                  -0.054539  \n",
       "pca_1                                           0.952952  \n",
       "TOTAL_EXPENDITURE                               0.920948  \n",
       "INSTRUCTION_EXPENDITURE                         0.877377  \n",
       "SUPPORT_SERVICES_EXPENDITURE                    0.904419  \n",
       "OTHER_EXPENDITURE                               0.916780  \n",
       "CAPITAL_OUTLAY_EXPENDITURE                      1.000000  "
      ]
     },
     "execution_count": 11,
     "metadata": {},
     "output_type": "execute_result"
    }
   ],
   "source": [
    "states[[\"overall_score\", \"pca_1\", \"TOTAL_EXPENDITURE\", \"INSTRUCTION_EXPENDITURE\",\n",
    "              \"SUPPORT_SERVICES_EXPENDITURE\", \"OTHER_EXPENDITURE\", \"CAPITAL_OUTLAY_EXPENDITURE\"]].corr()"
   ]
  },
  {
   "cell_type": "markdown",
   "metadata": {},
   "source": [
    "**(5)** When you need to choose the most appropriate variables for your model, would you prefer the first basic variables instead of the expenditure items? Why?"
   ]
  },
  {
   "cell_type": "markdown",
   "metadata": {},
   "source": [
    "Instruction expenditure variable is more correlated with the overall score than the first principal component so I prefer to use instruction expenditure."
   ]
  }
 ],
 "metadata": {
  "kernelspec": {
   "display_name": "Python 3",
   "language": "python",
   "name": "python3"
  },
  "language_info": {
   "codemirror_mode": {
    "name": "ipython",
    "version": 3
   },
   "file_extension": ".py",
   "mimetype": "text/x-python",
   "name": "python",
   "nbconvert_exporter": "python",
   "pygments_lexer": "ipython3",
   "version": "3.8.3"
  }
 },
 "nbformat": 4,
 "nbformat_minor": 4
}
