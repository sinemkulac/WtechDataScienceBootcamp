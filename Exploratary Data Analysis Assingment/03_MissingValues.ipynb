{
 "cells": [
  {
   "cell_type": "markdown",
   "metadata": {},
   "source": [
    "1-Find the types of variables in the dataset and the missing (null) ratio of each variable."
   ]
  },
  {
   "cell_type": "code",
   "execution_count": 9,
   "metadata": {},
   "outputs": [],
   "source": [
    "import pandas as pd\n",
    "import numpy as np\n",
    "states = pd.read_csv(\"E:/user/Notebooks/data/states_all.csv\")"
   ]
  },
  {
   "cell_type": "code",
   "execution_count": 10,
   "metadata": {},
   "outputs": [
    {
     "data": {
      "text/plain": [
       "PRIMARY_KEY                       0.000000\n",
       "STATE                             0.000000\n",
       "YEAR                              0.000000\n",
       "ENROLL                           40.114379\n",
       "TOTAL_REVENUE                    34.509804\n",
       "FEDERAL_REVENUE                  34.509804\n",
       "STATE_REVENUE                    34.509804\n",
       "LOCAL_REVENUE                    34.509804\n",
       "TOTAL_EXPENDITURE                34.509804\n",
       "INSTRUCTION_EXPENDITURE          34.509804\n",
       "SUPPORT_SERVICES_EXPENDITURE     34.509804\n",
       "OTHER_EXPENDITURE                40.114379\n",
       "CAPITAL_OUTLAY_EXPENDITURE       34.509804\n",
       "GRADES_PK_G                      11.219196\n",
       "GRADES_KG_G                       5.085784\n",
       "GRADES_4_G                        5.085784\n",
       "GRADES_8_G                        5.085784\n",
       "GRADES_12_G                       5.085784\n",
       "GRADES_1_8_G                     68.137255\n",
       "GRADES_9_12_G                    60.130719\n",
       "GRADES_ALL_G                      5.085784\n",
       "AVG_MATH_4_SCORE                203.539823\n",
       "AVG_MATH_8_SCORE                184.883721\n",
       "AVG_READING_4_SCORE             163.846154\n",
       "AVG_READING_8_SCORE             205.160142\n",
       "dtype: float64"
      ]
     },
     "execution_count": 10,
     "metadata": {},
     "output_type": "execute_result"
    }
   ],
   "source": [
    "states.isnull().sum()*100/states.count()"
   ]
  },
  {
   "cell_type": "raw",
   "metadata": {},
   "source": [
    "2-You may have noticed that our data has a year column. For now, forget about the year data and assume that each observation was made in the same year. Consider how you can fill in missing values for each variable. Filling in the missing values with a value is meaningful for which variables and for which ones?"
   ]
  },
  {
   "cell_type": "markdown",
   "metadata": {},
   "source": [
    "if feature has a lot of missing values i do not fill in , i delete this feature because if i fill in my data may not predict true. If feature does not have a lot of value we can fill in average data or \n",
    "previous value."
   ]
  },
  {
   "cell_type": "markdown",
   "metadata": {},
   "source": [
    "3-Now it's time to consider the factor of time! Review your answer in question 2 and fill in the missing data based on the values observed during that year. For example, if you want to fill a value with an average value, calculate the average of that year."
   ]
  },
  {
   "cell_type": "code",
   "execution_count": 16,
   "metadata": {},
   "outputs": [],
   "source": [
    "states[\"TOTAL_REVENUE\"].fillna(states[\"TOTAL_REVENUE\"].mean(),inplace=True)"
   ]
  },
  {
   "cell_type": "code",
   "execution_count": 17,
   "metadata": {},
   "outputs": [
    {
     "data": {
      "text/plain": [
       "PRIMARY_KEY                       0.000000\n",
       "STATE                             0.000000\n",
       "YEAR                              0.000000\n",
       "ENROLL                           40.114379\n",
       "TOTAL_REVENUE                     0.000000\n",
       "FEDERAL_REVENUE                  34.509804\n",
       "STATE_REVENUE                    34.509804\n",
       "LOCAL_REVENUE                    34.509804\n",
       "TOTAL_EXPENDITURE                34.509804\n",
       "INSTRUCTION_EXPENDITURE          34.509804\n",
       "SUPPORT_SERVICES_EXPENDITURE     34.509804\n",
       "OTHER_EXPENDITURE                40.114379\n",
       "CAPITAL_OUTLAY_EXPENDITURE       34.509804\n",
       "GRADES_PK_G                      11.219196\n",
       "GRADES_KG_G                       5.085784\n",
       "GRADES_4_G                        5.085784\n",
       "GRADES_8_G                        5.085784\n",
       "GRADES_12_G                       5.085784\n",
       "GRADES_1_8_G                     68.137255\n",
       "GRADES_9_12_G                    60.130719\n",
       "GRADES_ALL_G                      5.085784\n",
       "AVG_MATH_4_SCORE                203.539823\n",
       "AVG_MATH_8_SCORE                184.883721\n",
       "AVG_READING_4_SCORE             163.846154\n",
       "AVG_READING_8_SCORE             205.160142\n",
       "dtype: float64"
      ]
     },
     "execution_count": 17,
     "metadata": {},
     "output_type": "execute_result"
    }
   ],
   "source": [
    "states.isnull().sum()*100/states.count()"
   ]
  },
  {
   "cell_type": "markdown",
   "metadata": {},
   "source": [
    "4-This time, fill in the missing values by interpolating."
   ]
  },
  {
   "cell_type": "code",
   "execution_count": 32,
   "metadata": {},
   "outputs": [
    {
     "data": {
      "text/plain": [
       "1710    745758.0\n",
       "1711    745758.0\n",
       "1712    745758.0\n",
       "1713    745758.0\n",
       "1714    745758.0\n",
       "Name: LOCAL_REVENUE, dtype: float64"
      ]
     },
     "execution_count": 32,
     "metadata": {},
     "output_type": "execute_result"
    }
   ],
   "source": [
    "states.LOCAL_REVENUE.interpolate().tail()\n",
    "#states.isnull().sum()*100/states.count()"
   ]
  },
  {
   "cell_type": "code",
   "execution_count": null,
   "metadata": {},
   "outputs": [],
   "source": []
  },
  {
   "cell_type": "code",
   "execution_count": null,
   "metadata": {},
   "outputs": [],
   "source": []
  }
 ],
 "metadata": {
  "kernelspec": {
   "display_name": "Python 3",
   "language": "python",
   "name": "python3"
  },
  "language_info": {
   "codemirror_mode": {
    "name": "ipython",
    "version": 3
   },
   "file_extension": ".py",
   "mimetype": "text/x-python",
   "name": "python",
   "nbconvert_exporter": "python",
   "pygments_lexer": "ipython3",
   "version": "3.8.3"
  }
 },
 "nbformat": 4,
 "nbformat_minor": 4
}
