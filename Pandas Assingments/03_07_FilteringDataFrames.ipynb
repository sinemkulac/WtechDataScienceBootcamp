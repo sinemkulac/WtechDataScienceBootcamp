{
 "cells": [
  {
   "cell_type": "markdown",
   "metadata": {},
   "source": [
    "# <font color=blue>Assignments for Filtering Dataframes</font>\n",
    "\n",
    "For Pandas assignments, you are going to use [Titanic](https://www.kaggle.com/c/titanic/download/GQf0y8ebHO0C4JXscPPp%2Fversions%2FXkNkvXwqPPVG0Qt3MtQT%2Ffiles%2Ftrain.csv) (train.csv) dataset. Download the dataset and load to a DataFrame.\n",
    "\n",
    "1. By using conditional selection methods, calculate the survival rate for all passengers under 30 years old.\n"
   ]
  },
  {
   "cell_type": "code",
   "execution_count": 3,
   "metadata": {},
   "outputs": [
    {
     "name": "stdout",
     "output_type": "stream",
     "text": [
      "Survival rate under 30/all:  0.45614035087719296\n"
     ]
    }
   ],
   "source": [
    "import pandas as pd\n",
    "import numpy as np\n",
    "\n",
    "mydata= pd.read_csv(\"E:/user/Notebooks/data/train.csv\")\n",
    "under_thirty=mydata[mydata['Age']<30]\n",
    "under_thirty_survived=under_thirty[under_thirty['Survived']==1]\n",
    "number_of_under_thirty_survived=len(under_thirty_survived.index)\n",
    "\n",
    "survived=mydata[mydata['Survived']==1]\n",
    "number_of_survived=len(survived.index)\n",
    "\n",
    "print(\"Survival rate under 30/all: \",number_of_under_thirty_survived/number_of_survived)"
   ]
  },
  {
   "cell_type": "markdown",
   "metadata": {},
   "source": [
    "2. Calculate the survival rate by gender."
   ]
  },
  {
   "cell_type": "code",
   "execution_count": 4,
   "metadata": {},
   "outputs": [
    {
     "name": "stdout",
     "output_type": "stream",
     "text": [
      "Survival rate of woman:  0.7420382165605095\n"
     ]
    }
   ],
   "source": [
    "survived_woman=mydata[(mydata['Sex'] =='female') & (mydata['Survived'] == 1)]\n",
    "all_woman=mydata[mydata['Sex'] =='female']\n",
    "number_of_all_woman=len(all_woman.index)\n",
    "number_of_survived_woman=len(survived_woman.index)\n",
    "print(\"Survival rate of woman: \",number_of_survived_woman/number_of_all_woman)"
   ]
  },
  {
   "cell_type": "code",
   "execution_count": 5,
   "metadata": {},
   "outputs": [
    {
     "name": "stdout",
     "output_type": "stream",
     "text": [
      "Survival rate of man:  0.18890814558058924\n"
     ]
    }
   ],
   "source": [
    "survived_man=mydata[(mydata['Sex'] =='male') & (mydata['Survived'] == 1)]\n",
    "all_man=mydata[mydata['Sex'] =='male']\n",
    "number_of_all_man=len(all_man.index)\n",
    "number_of_survived_man=len(survived_man.index)\n",
    "print(\"Survival rate of man: \",number_of_survived_man/number_of_all_man)"
   ]
  },
  {
   "cell_type": "code",
   "execution_count": null,
   "metadata": {},
   "outputs": [],
   "source": []
  }
 ],
 "metadata": {
  "kernelspec": {
   "display_name": "Python 3",
   "language": "python",
   "name": "python3"
  },
  "language_info": {
   "codemirror_mode": {
    "name": "ipython",
    "version": 3
   },
   "file_extension": ".py",
   "mimetype": "text/x-python",
   "name": "python",
   "nbconvert_exporter": "python",
   "pygments_lexer": "ipython3",
   "version": "3.8.3"
  }
 },
 "nbformat": 4,
 "nbformat_minor": 4
}
