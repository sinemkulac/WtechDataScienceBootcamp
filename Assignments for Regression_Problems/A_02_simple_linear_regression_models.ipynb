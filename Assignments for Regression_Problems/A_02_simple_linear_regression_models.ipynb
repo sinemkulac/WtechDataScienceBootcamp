{
 "cells": [
  {
   "cell_type": "markdown",
   "metadata": {},
   "source": [
    "# <font color=blue>Assignments for \"Simple Linear Regression\"</font>"
   ]
  },
  {
   "cell_type": "markdown",
   "metadata": {
    "colab_type": "text",
    "id": "SOMwO1DevNK5"
   },
   "source": [
    "Now, it's your turn to design your first regression model. In this module, you'll be using a version of the [\"House Prices\" dataset](https://www.kaggle.com/c/house-prices-advanced-regression-techniques/data) from Kaggle. This dataset consists of 79 variables describing many aspects of residential homes in Ames, Iowa. Using this data, your task will be to predict the prices of the houses. You can find the descriptions of the variables here: [House Prices](https://www.kaggle.com/c/house-prices-advanced-regression-techniques/data)\n",
    "\n",
    "To complete this assignment, submit a link to a Jupyter notebook containing your solutions to the following tasks:"
   ]
  },
  {
   "cell_type": "markdown",
   "metadata": {},
   "source": [
    "**(1)** Investigate the data and do any necessary data cleaning."
   ]
  },
  {
   "cell_type": "code",
   "execution_count": 1,
   "metadata": {},
   "outputs": [],
   "source": [
    "import pandas as pd\n",
    "import numpy as np\n",
    "import matplotlib.pyplot as plt\n",
    "from pandas.api.types import is_numeric_dtype\n",
    "from sklearn import metrics\n",
    "import math\n"
   ]
  },
  {
   "cell_type": "code",
   "execution_count": 2,
   "metadata": {},
   "outputs": [],
   "source": [
    "data=pd.read_csv(\"E:/user/Notebooks/data/house-prices/train.csv\", low_memory=False)\n"
   ]
  },
  {
   "cell_type": "code",
   "execution_count": 3,
   "metadata": {},
   "outputs": [],
   "source": [
    "def display_all(df):\n",
    "    with pd.option_context(\"display.max_rows\", 1000, \"display.max_columns\", 1000): \n",
    "        display(df)"
   ]
  },
  {
   "cell_type": "code",
   "execution_count": 4,
   "metadata": {},
   "outputs": [
    {
     "data": {
      "text/plain": [
       "1stFlrSF          0.000000\n",
       "2ndFlrSF          0.000000\n",
       "3SsnPorch         0.000000\n",
       "Alley            93.767123\n",
       "BedroomAbvGr      0.000000\n",
       "BldgType          0.000000\n",
       "BsmtCond          2.534247\n",
       "BsmtExposure      2.602740\n",
       "BsmtFinSF1        0.000000\n",
       "BsmtFinSF2        0.000000\n",
       "BsmtFinType1      2.534247\n",
       "BsmtFinType2      2.602740\n",
       "BsmtFullBath      0.000000\n",
       "BsmtHalfBath      0.000000\n",
       "BsmtQual          2.534247\n",
       "BsmtUnfSF         0.000000\n",
       "CentralAir        0.000000\n",
       "Condition1        0.000000\n",
       "Condition2        0.000000\n",
       "Electrical        0.068493\n",
       "EnclosedPorch     0.000000\n",
       "ExterCond         0.000000\n",
       "ExterQual         0.000000\n",
       "Exterior1st       0.000000\n",
       "Exterior2nd       0.000000\n",
       "Fence            80.753425\n",
       "FireplaceQu      47.260274\n",
       "Fireplaces        0.000000\n",
       "Foundation        0.000000\n",
       "FullBath          0.000000\n",
       "Functional        0.000000\n",
       "GarageArea        0.000000\n",
       "GarageCars        0.000000\n",
       "GarageCond        5.547945\n",
       "GarageFinish      5.547945\n",
       "GarageQual        5.547945\n",
       "GarageType        5.547945\n",
       "GarageYrBlt       5.547945\n",
       "GrLivArea         0.000000\n",
       "HalfBath          0.000000\n",
       "Heating           0.000000\n",
       "HeatingQC         0.000000\n",
       "HouseStyle        0.000000\n",
       "Id                0.000000\n",
       "KitchenAbvGr      0.000000\n",
       "KitchenQual       0.000000\n",
       "LandContour       0.000000\n",
       "LandSlope         0.000000\n",
       "LotArea           0.000000\n",
       "LotConfig         0.000000\n",
       "LotFrontage      17.739726\n",
       "LotShape          0.000000\n",
       "LowQualFinSF      0.000000\n",
       "MSSubClass        0.000000\n",
       "MSZoning          0.000000\n",
       "MasVnrArea        0.547945\n",
       "MasVnrType        0.547945\n",
       "MiscFeature      96.301370\n",
       "MiscVal           0.000000\n",
       "MoSold            0.000000\n",
       "Neighborhood      0.000000\n",
       "OpenPorchSF       0.000000\n",
       "OverallCond       0.000000\n",
       "OverallQual       0.000000\n",
       "PavedDrive        0.000000\n",
       "PoolArea          0.000000\n",
       "PoolQC           99.520548\n",
       "RoofMatl          0.000000\n",
       "RoofStyle         0.000000\n",
       "SaleCondition     0.000000\n",
       "SalePrice         0.000000\n",
       "SaleType          0.000000\n",
       "ScreenPorch       0.000000\n",
       "Street            0.000000\n",
       "TotRmsAbvGrd      0.000000\n",
       "TotalBsmtSF       0.000000\n",
       "Utilities         0.000000\n",
       "WoodDeckSF        0.000000\n",
       "YearBuilt         0.000000\n",
       "YearRemodAdd      0.000000\n",
       "YrSold            0.000000\n",
       "dtype: float64"
      ]
     },
     "metadata": {},
     "output_type": "display_data"
    }
   ],
   "source": [
    "#There are lots of null features we need to clean it.\n",
    "display_all(data.isnull().sum().sort_index()*100/len(data))"
   ]
  },
  {
   "cell_type": "code",
   "execution_count": 5,
   "metadata": {},
   "outputs": [],
   "source": [
    "data=data.drop(['PoolQC','MiscFeature','Fence','Alley'], axis=1)"
   ]
  },
  {
   "cell_type": "code",
   "execution_count": 6,
   "metadata": {},
   "outputs": [],
   "source": [
    "def fix_missing(df, col, name):\n",
    "    if is_numeric_dtype(col):\n",
    "        df[name] = col.fillna(col.median())    "
   ]
  },
  {
   "cell_type": "code",
   "execution_count": 7,
   "metadata": {},
   "outputs": [],
   "source": [
    "for n, c in data.items():\n",
    "        fix_missing(data, c, n)"
   ]
  },
  {
   "cell_type": "code",
   "execution_count": 8,
   "metadata": {},
   "outputs": [
    {
     "data": {
      "text/plain": [
       "1stFlrSF          0.000000\n",
       "2ndFlrSF          0.000000\n",
       "3SsnPorch         0.000000\n",
       "BedroomAbvGr      0.000000\n",
       "BldgType          0.000000\n",
       "BsmtCond          2.534247\n",
       "BsmtExposure      2.602740\n",
       "BsmtFinSF1        0.000000\n",
       "BsmtFinSF2        0.000000\n",
       "BsmtFinType1      2.534247\n",
       "BsmtFinType2      2.602740\n",
       "BsmtFullBath      0.000000\n",
       "BsmtHalfBath      0.000000\n",
       "BsmtQual          2.534247\n",
       "BsmtUnfSF         0.000000\n",
       "CentralAir        0.000000\n",
       "Condition1        0.000000\n",
       "Condition2        0.000000\n",
       "Electrical        0.068493\n",
       "EnclosedPorch     0.000000\n",
       "ExterCond         0.000000\n",
       "ExterQual         0.000000\n",
       "Exterior1st       0.000000\n",
       "Exterior2nd       0.000000\n",
       "FireplaceQu      47.260274\n",
       "Fireplaces        0.000000\n",
       "Foundation        0.000000\n",
       "FullBath          0.000000\n",
       "Functional        0.000000\n",
       "GarageArea        0.000000\n",
       "GarageCars        0.000000\n",
       "GarageCond        5.547945\n",
       "GarageFinish      5.547945\n",
       "GarageQual        5.547945\n",
       "GarageType        5.547945\n",
       "GarageYrBlt       0.000000\n",
       "GrLivArea         0.000000\n",
       "HalfBath          0.000000\n",
       "Heating           0.000000\n",
       "HeatingQC         0.000000\n",
       "HouseStyle        0.000000\n",
       "Id                0.000000\n",
       "KitchenAbvGr      0.000000\n",
       "KitchenQual       0.000000\n",
       "LandContour       0.000000\n",
       "LandSlope         0.000000\n",
       "LotArea           0.000000\n",
       "LotConfig         0.000000\n",
       "LotFrontage       0.000000\n",
       "LotShape          0.000000\n",
       "LowQualFinSF      0.000000\n",
       "MSSubClass        0.000000\n",
       "MSZoning          0.000000\n",
       "MasVnrArea        0.000000\n",
       "MasVnrType        0.547945\n",
       "MiscVal           0.000000\n",
       "MoSold            0.000000\n",
       "Neighborhood      0.000000\n",
       "OpenPorchSF       0.000000\n",
       "OverallCond       0.000000\n",
       "OverallQual       0.000000\n",
       "PavedDrive        0.000000\n",
       "PoolArea          0.000000\n",
       "RoofMatl          0.000000\n",
       "RoofStyle         0.000000\n",
       "SaleCondition     0.000000\n",
       "SalePrice         0.000000\n",
       "SaleType          0.000000\n",
       "ScreenPorch       0.000000\n",
       "Street            0.000000\n",
       "TotRmsAbvGrd      0.000000\n",
       "TotalBsmtSF       0.000000\n",
       "Utilities         0.000000\n",
       "WoodDeckSF        0.000000\n",
       "YearBuilt         0.000000\n",
       "YearRemodAdd      0.000000\n",
       "YrSold            0.000000\n",
       "dtype: float64"
      ]
     },
     "metadata": {},
     "output_type": "display_data"
    }
   ],
   "source": [
    "display_all(data.isnull().sum().sort_index()*100/len(data))"
   ]
  },
  {
   "cell_type": "markdown",
   "metadata": {},
   "source": [
    "**(2)** Explore the data and find some variables that you think would be useful in the prediction of the house prices.\n"
   ]
  },
  {
   "cell_type": "code",
   "execution_count": 9,
   "metadata": {},
   "outputs": [
    {
     "data": {
      "image/png": "[encoded data removed]",
      "text/plain": [
       "<Figure size 720x720 with 2 Axes>"
      ]
     },
     "metadata": {
      "needs_background": "light"
     },
     "output_type": "display_data"
    }
   ],
   "source": [
    "import seaborn as sns\n",
    "corrmat = data.corr()\n",
    "top_corr_features = corrmat.index[abs(corrmat[\"SalePrice\"])>0.5]\n",
    "plt.figure(figsize=(10,10))\n",
    "g = sns.heatmap(data[top_corr_features].corr(),annot=True,cmap=\"RdYlGn\")"
   ]
  },
  {
   "cell_type": "markdown",
   "metadata": {},
   "source": [
    "GrLivArea and OverralQual is more correlated with Saleprice so I chose these features to predict of houses prices."
   ]
  },
  {
   "cell_type": "markdown",
   "metadata": {},
   "source": [
    "**(3)** Build your initial model using these features and estimate the parameters using OLS."
   ]
  },
  {
   "cell_type": "code",
   "execution_count": 10,
   "metadata": {},
   "outputs": [
    {
     "data": {
      "text/plain": [
       "LinearRegression()"
      ]
     },
     "execution_count": 10,
     "metadata": {},
     "output_type": "execute_result"
    }
   ],
   "source": [
    "from sklearn import linear_model\n",
    "\n",
    "# Y is the target variable\n",
    "Y = data['SalePrice']\n",
    "# X is the feature set which includes\n",
    "# is_male and is_smoker variables\n",
    "X = data[['GrLivArea','OverallQual']]\n",
    "\n",
    "# We create a LinearRegression model object\n",
    "# from scikit-learn's linear_model module.\n",
    "lrm = linear_model.LinearRegression()\n",
    "\n",
    "# fit method estimates the coefficients using OLS\n",
    "lrm.fit(X, Y)\n",
    "\n"
   ]
  },
  {
   "cell_type": "code",
   "execution_count": 11,
   "metadata": {},
   "outputs": [
    {
     "data": {
      "text/html": [
       "<table class=\"simpletable\">\n",
       "<caption>OLS Regression Results</caption>\n",
       "<tr>\n",
       "  <th>Dep. Variable:</th>        <td>SalePrice</td>    <th>  R-squared:         </th> <td>   0.714</td> \n",
       "</tr>\n",
       "<tr>\n",
       "  <th>Model:</th>                   <td>OLS</td>       <th>  Adj. R-squared:    </th> <td>   0.714</td> \n",
       "</tr>\n",
       "<tr>\n",
       "  <th>Method:</th>             <td>Least Squares</td>  <th>  F-statistic:       </th> <td>   1820.</td> \n",
       "</tr>\n",
       "<tr>\n",
       "  <th>Date:</th>             <td>Mon, 14 Sep 2020</td> <th>  Prob (F-statistic):</th>  <td>  0.00</td>  \n",
       "</tr>\n",
       "<tr>\n",
       "  <th>Time:</th>                 <td>10:30:49</td>     <th>  Log-Likelihood:    </th> <td> -17630.</td> \n",
       "</tr>\n",
       "<tr>\n",
       "  <th>No. Observations:</th>      <td>  1460</td>      <th>  AIC:               </th> <td>3.527e+04</td>\n",
       "</tr>\n",
       "<tr>\n",
       "  <th>Df Residuals:</th>          <td>  1457</td>      <th>  BIC:               </th> <td>3.528e+04</td>\n",
       "</tr>\n",
       "<tr>\n",
       "  <th>Df Model:</th>              <td>     2</td>      <th>                     </th>     <td> </td>    \n",
       "</tr>\n",
       "<tr>\n",
       "  <th>Covariance Type:</th>      <td>nonrobust</td>    <th>                     </th>     <td> </td>    \n",
       "</tr>\n",
       "</table>\n",
       "<table class=\"simpletable\">\n",
       "<tr>\n",
       "       <td></td>          <th>coef</th>     <th>std err</th>      <th>t</th>      <th>P>|t|</th>  <th>[0.025</th>    <th>0.975]</th>  \n",
       "</tr>\n",
       "<tr>\n",
       "  <th>const</th>       <td>-1.041e+05</td> <td> 5045.372</td> <td>  -20.631</td> <td> 0.000</td> <td>-1.14e+05</td> <td>-9.42e+04</td>\n",
       "</tr>\n",
       "<tr>\n",
       "  <th>GrLivArea</th>   <td>   55.8622</td> <td>    2.630</td> <td>   21.242</td> <td> 0.000</td> <td>   50.704</td> <td>   61.021</td>\n",
       "</tr>\n",
       "<tr>\n",
       "  <th>OverallQual</th> <td> 3.285e+04</td> <td>  999.198</td> <td>   32.875</td> <td> 0.000</td> <td> 3.09e+04</td> <td> 3.48e+04</td>\n",
       "</tr>\n",
       "</table>\n",
       "<table class=\"simpletable\">\n",
       "<tr>\n",
       "  <th>Omnibus:</th>       <td>341.985</td> <th>  Durbin-Watson:     </th> <td>   1.985</td>\n",
       "</tr>\n",
       "<tr>\n",
       "  <th>Prob(Omnibus):</th> <td> 0.000</td>  <th>  Jarque-Bera (JB):  </th> <td>8725.150</td>\n",
       "</tr>\n",
       "<tr>\n",
       "  <th>Skew:</th>          <td> 0.469</td>  <th>  Prob(JB):          </th> <td>    0.00</td>\n",
       "</tr>\n",
       "<tr>\n",
       "  <th>Kurtosis:</th>      <td>14.939</td>  <th>  Cond. No.          </th> <td>7.35e+03</td>\n",
       "</tr>\n",
       "</table><br/><br/>Warnings:<br/>[1] Standard Errors assume that the covariance matrix of the errors is correctly specified.<br/>[2] The condition number is large, 7.35e+03. This might indicate that there are<br/>strong multicollinearity or other numerical problems."
      ],
      "text/plain": [
       "<class 'statsmodels.iolib.summary.Summary'>\n",
       "\"\"\"\n",
       "                            OLS Regression Results                            \n",
       "==============================================================================\n",
       "Dep. Variable:              SalePrice   R-squared:                       0.714\n",
       "Model:                            OLS   Adj. R-squared:                  0.714\n",
       "Method:                 Least Squares   F-statistic:                     1820.\n",
       "Date:                Mon, 14 Sep 2020   Prob (F-statistic):               0.00\n",
       "Time:                        10:30:49   Log-Likelihood:                -17630.\n",
       "No. Observations:                1460   AIC:                         3.527e+04\n",
       "Df Residuals:                    1457   BIC:                         3.528e+04\n",
       "Df Model:                           2                                         \n",
       "Covariance Type:            nonrobust                                         \n",
       "===============================================================================\n",
       "                  coef    std err          t      P>|t|      [0.025      0.975]\n",
       "-------------------------------------------------------------------------------\n",
       "const       -1.041e+05   5045.372    -20.631      0.000   -1.14e+05   -9.42e+04\n",
       "GrLivArea      55.8622      2.630     21.242      0.000      50.704      61.021\n",
       "OverallQual  3.285e+04    999.198     32.875      0.000    3.09e+04    3.48e+04\n",
       "==============================================================================\n",
       "Omnibus:                      341.985   Durbin-Watson:                   1.985\n",
       "Prob(Omnibus):                  0.000   Jarque-Bera (JB):             8725.150\n",
       "Skew:                           0.469   Prob(JB):                         0.00\n",
       "Kurtosis:                      14.939   Cond. No.                     7.35e+03\n",
       "==============================================================================\n",
       "\n",
       "Warnings:\n",
       "[1] Standard Errors assume that the covariance matrix of the errors is correctly specified.\n",
       "[2] The condition number is large, 7.35e+03. This might indicate that there are\n",
       "strong multicollinearity or other numerical problems.\n",
       "\"\"\""
      ]
     },
     "execution_count": 11,
     "metadata": {},
     "output_type": "execute_result"
    }
   ],
   "source": [
    "import statsmodels.api as sm\n",
    "\n",
    "# We need to add constant manually \n",
    "# in statsmodels' sm\n",
    "X = sm.add_constant(X)\n",
    "\n",
    "results = sm.OLS(Y, X).fit()\n",
    "\n",
    "results.summary()"
   ]
  },
  {
   "cell_type": "code",
   "execution_count": null,
   "metadata": {},
   "outputs": [],
   "source": []
  }
 ],
 "metadata": {
  "colab": {
   "name": "2.simple_linear_regression_models.ipynb",
   "provenance": [],
   "version": "0.3.2"
  },
  "kernelspec": {
   "display_name": "Python 3",
   "language": "python",
   "name": "python3"
  },
  "language_info": {
   "codemirror_mode": {
    "name": "ipython",
    "version": 3
   },
   "file_extension": ".py",
   "mimetype": "text/x-python",
   "name": "python",
   "nbconvert_exporter": "python",
   "pygments_lexer": "ipython3",
   "version": "3.8.3"
  },
  "latex_envs": {
   "LaTeX_envs_menu_present": true,
   "autoclose": false,
   "autocomplete": true,
   "bibliofile": "biblio.bib",
   "cite_by": "apalike",
   "current_citInitial": 1,
   "eqLabelWithNumbers": true,
   "eqNumInitial": 1,
   "hotkeys": {
    "equation": "Ctrl-E",
    "itemize": "Ctrl-I"
   },
   "labels_anchors": false,
   "latex_user_defs": false,
   "report_style_numbering": false,
   "user_envs_cfg": false
  },
  "varInspector": {
   "cols": {
    "lenName": 16,
    "lenType": 16,
    "lenVar": 40
   },
   "kernels_config": {
    "python": {
     "delete_cmd_postfix": "",
     "delete_cmd_prefix": "del ",
     "library": "var_list.py",
     "varRefreshCmd": "print(var_dic_list())"
    },
    "r": {
     "delete_cmd_postfix": ") ",
     "delete_cmd_prefix": "rm(",
     "library": "var_list.r",
     "varRefreshCmd": "cat(var_dic_list()) "
    }
   },
   "types_to_exclude": [
    "module",
    "function",
    "builtin_function_or_method",
    "instance",
    "_Feature"
   ],
   "window_display": false
  }
 },
 "nbformat": 4,
 "nbformat_minor": 4
}
