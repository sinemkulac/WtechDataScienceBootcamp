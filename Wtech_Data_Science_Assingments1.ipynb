{
  "nbformat": 4,
  "nbformat_minor": 0,
  "metadata": {
    "colab": {
      "name": "Wtech_Data_Science_Assingments1.ipynb",
      "provenance": [],
      "collapsed_sections": []
    },
    "kernelspec": {
      "name": "python3",
      "display_name": "Python 3"
    }
  },
  "cells": [
    {
      "cell_type": "markdown",
      "metadata": {
        "id": "iTZFPEbLR_P8",
        "colab_type": "text"
      },
      "source": [
        "**Python Basics Assingment** "
      ]
    },
    {
      "cell_type": "code",
      "metadata": {
        "id": "PDJ1bAZTH9nV",
        "colab_type": "code",
        "colab": {
          "base_uri": "https://localhost:8080/",
          "height": 34
        },
        "outputId": "11cbe610-44c3-4690-808b-625278211416"
      },
      "source": [
        "print('I don\\'t want to be an \"artist\". I want to be a \"Data Scientist.\"')"
      ],
      "execution_count": null,
      "outputs": [
        {
          "output_type": "stream",
          "text": [
            "I don't want to be an \"artist\". I want to be a \"Data Scientist.\"\n"
          ],
          "name": "stdout"
        }
      ]
    },
    {
      "cell_type": "markdown",
      "metadata": {
        "id": "y0D62V_ASLUC",
        "colab_type": "text"
      },
      "source": [
        "**Basic Data Types Assingment**"
      ]
    },
    {
      "cell_type": "code",
      "metadata": {
        "id": "KL6eh8U_LL_a",
        "colab_type": "code",
        "colab": {
          "base_uri": "https://localhost:8080/",
          "height": 34
        },
        "outputId": "d3842979-a0e9-4758-c7f5-de78e492cc66"
      },
      "source": [
        "money=1000\n",
        "for i in range(7):\n",
        "  money+=money*0.12\n",
        "print(money)"
      ],
      "execution_count": null,
      "outputs": [
        {
          "output_type": "stream",
          "text": [
            "2210.6814074060803\n"
          ],
          "name": "stdout"
        }
      ]
    },
    {
      "cell_type": "code",
      "metadata": {
        "id": "dx7S0G-3MaBi",
        "colab_type": "code",
        "colab": {
          "base_uri": "https://localhost:8080/",
          "height": 34
        },
        "outputId": "97c2849a-9254-43be-a018-61963ee28f7e"
      },
      "source": [
        "print(\"When we buy bitcoin with 1000 USD at the beginning of the week, we would earn {} USD at the end of the week, with an average gain of 12\\%.\".format(money-1000))"
      ],
      "execution_count": null,
      "outputs": [
        {
          "output_type": "stream",
          "text": [
            "When we buy bitcoin with 1000 USD at the beginning of the week, we would earn 1210.6814074060803 USD at the end of the week, with an average gain of 12\\%.\n"
          ],
          "name": "stdout"
        }
      ]
    },
    {
      "cell_type": "code",
      "metadata": {
        "id": "aMAMyYYDP_WB",
        "colab_type": "code",
        "colab": {
          "base_uri": "https://localhost:8080/",
          "height": 50
        },
        "outputId": "ee422ec4-45ad-43c2-f3bb-84e7ea15719f"
      },
      "source": [
        "F=input('Enter the temperature in Fahrenheit: ')\n",
        "C = (5/9) * (int(F) - 32)\n",
        "print(\"Temperature (C) : {}\".format(C))"
      ],
      "execution_count": null,
      "outputs": [
        {
          "output_type": "stream",
          "text": [
            "Enter the temperature in Fahrenheit: 220\n",
            "Temperature (C) : 104.44444444444444\n"
          ],
          "name": "stdout"
        }
      ]
    },
    {
      "cell_type": "code",
      "metadata": {
        "id": "0Y3Kd22cR8RI",
        "colab_type": "code",
        "colab": {
          "base_uri": "https://localhost:8080/",
          "height": 84
        },
        "outputId": "5b51c834-a6e6-4751-af2a-0cc662be1d70"
      },
      "source": [
        "sum_of_nums=0\n",
        "for i in range(3):\n",
        "  nums=input()\n",
        "  sum_of_nums+=int(nums)\n",
        "print(\"The sum of digits in the number is\",sum_of_nums)  "
      ],
      "execution_count": null,
      "outputs": [
        {
          "output_type": "stream",
          "text": [
            "1\n",
            "2\n",
            "3\n",
            "The sum of digits in the number is 6\n"
          ],
          "name": "stdout"
        }
      ]
    },
    {
      "cell_type": "code",
      "metadata": {
        "id": "iE0hbVImTsx2",
        "colab_type": "code",
        "colab": {
          "base_uri": "https://localhost:8080/",
          "height": 67
        },
        "outputId": "d63f21d2-1950-42e3-8baa-722c238fcef3"
      },
      "source": [
        "first=input(\"first side lenth\")\n",
        "second=input(\"second side lenth\")\n",
        "hypo=(int(first)**2+int(second)**2)**0.5\n",
        "print(\"The length of the hypotenuse is \",hypo)"
      ],
      "execution_count": null,
      "outputs": [
        {
          "output_type": "stream",
          "text": [
            "first side lenth3\n",
            "second side lenth4\n",
            "The length of the hypotenuse is  5.0\n"
          ],
          "name": "stdout"
        }
      ]
    },
    {
      "cell_type": "markdown",
      "metadata": {
        "id": "Amx-zGvEU0Mf",
        "colab_type": "text"
      },
      "source": [
        "**Variables Assingment**"
      ]
    },
    {
      "cell_type": "code",
      "metadata": {
        "id": "yyDINxlDU5Cx",
        "colab_type": "code",
        "colab": {
          "base_uri": "https://localhost:8080/",
          "height": 34
        },
        "outputId": "903cf2a1-0f80-414f-a027-357f6af746ef"
      },
      "source": [
        "x=1\n",
        "y='1'\n",
        "x is y"
      ],
      "execution_count": null,
      "outputs": [
        {
          "output_type": "execute_result",
          "data": {
            "text/plain": [
              "False"
            ]
          },
          "metadata": {
            "tags": []
          },
          "execution_count": 39
        }
      ]
    },
    {
      "cell_type": "code",
      "metadata": {
        "id": "SANfyM3yVEkX",
        "colab_type": "code",
        "colab": {
          "base_uri": "https://localhost:8080/",
          "height": 34
        },
        "outputId": "17028538-c5ab-4efc-8379-16aa632b0993"
      },
      "source": [
        "y=int(y)\n",
        "x is y"
      ],
      "execution_count": null,
      "outputs": [
        {
          "output_type": "execute_result",
          "data": {
            "text/plain": [
              "True"
            ]
          },
          "metadata": {
            "tags": []
          },
          "execution_count": 40
        }
      ]
    },
    {
      "cell_type": "markdown",
      "metadata": {
        "id": "ge6StOGhVQiX",
        "colab_type": "text"
      },
      "source": [
        "**Lists Assingment**"
      ]
    },
    {
      "cell_type": "code",
      "metadata": {
        "id": "weYQG0t4VcEp",
        "colab_type": "code",
        "colab": {
          "base_uri": "https://localhost:8080/",
          "height": 50
        },
        "outputId": "26425181-1e10-471e-f0f2-746c6ed1687a"
      },
      "source": [
        "my_list = [34, 56, 76, 45, 2, 12, 67, 98, 37, 54, 66]\n",
        "sorted=my_list.sort()\n",
        "print(\"the sum of the two lowest numbers:\",my_list[0]+my_list[1])\n",
        "print(\"the sum of the two highest numbers:\",my_list[len(my_list)-1]+my_list[len(my_list)-2])"
      ],
      "execution_count": null,
      "outputs": [
        {
          "output_type": "stream",
          "text": [
            "the sum of the two lowest numbers: 14\n",
            "the sum of the two highest numbers: 174\n"
          ],
          "name": "stdout"
        }
      ]
    },
    {
      "cell_type": "code",
      "metadata": {
        "id": "KsLfTXJBbHqw",
        "colab_type": "code",
        "colab": {}
      },
      "source": [
        "ry"
      ],
      "execution_count": null,
      "outputs": []
    },
    {
      "cell_type": "code",
      "metadata": {
        "id": "2OaV7OrXaKuN",
        "colab_type": "code",
        "colab": {
          "base_uri": "https://localhost:8080/",
          "height": 50
        },
        "outputId": "e3b70ed8-8866-439a-d98b-348f5ebe146d"
      },
      "source": [
        "names = [\"David\", \"Michael\", \"John\", \"James\", \"Greg\", \"Mark\", \"William\", \"Richard\", \"Thomas\", \"Steven\", \n",
        "          \"Mary\", \"Susan\", \"Maria\", \"Karen\", \"Lisa\", \"Linda\", \"Donna\", \"Patricia\", \"Debra\", \"Eric\"]\n",
        "\n",
        "scores = [99, 87, 78, 86, 68, 94, 76, 97, 56, 98, 76, 87, 79, 90, 73, 93, 82, 69, 97, 98]\n",
        "name=input(\"Name of student that you wanted to learn score of him/her: \")\n",
        "index=names.index(name)\n",
        "print(scores[index])"
      ],
      "execution_count": null,
      "outputs": [
        {
          "output_type": "stream",
          "text": [
            "Name of student that you wanted to learn score of him/her: David\n",
            "99\n"
          ],
          "name": "stdout"
        }
      ]
    },
    {
      "cell_type": "code",
      "metadata": {
        "id": "iLtE0uMzbXcg",
        "colab_type": "code",
        "colab": {
          "base_uri": "https://localhost:8080/",
          "height": 34
        },
        "outputId": "c7d3df6d-ff83-4858-b220-93ddaa0fd23e"
      },
      "source": [
        "max_score=max(scores)\n",
        "num_of_students=scores.count(max_score)\n",
        "print(\" maximum score is {} and {} student got maximum score\".format(max_score,num_of_students))"
      ],
      "execution_count": null,
      "outputs": [
        {
          "output_type": "stream",
          "text": [
            " maximum score is 99 and 1 student got maximum score\n"
          ],
          "name": "stdout"
        }
      ]
    },
    {
      "cell_type": "code",
      "metadata": {
        "id": "vYCesuvudal9",
        "colab_type": "code",
        "colab": {}
      },
      "source": [
        "months = ['January', 'February','March', 'April', 'May','June', 'July', 'August','September', 'October', 'November','December']\n",
        "days=['31','30','31','30','31','30','31','31','30','31','30','31']\n",
        "total=[months,days]\n",
        "total_1=[[months],[days]]\n",
        "spring = ['March', 'April', 'May']\n",
        "summer = ['June', 'July', 'August']\n",
        "fall = ['September', 'October', 'November']\n",
        "winter = ['December', 'January', 'February']\n",
        "\n"
      ],
      "execution_count": null,
      "outputs": []
    },
    {
      "cell_type": "markdown",
      "metadata": {
        "id": "wGPR-BVxh2rq",
        "colab_type": "text"
      },
      "source": [
        "**Dictionary Assingment**"
      ]
    },
    {
      "cell_type": "code",
      "metadata": {
        "id": "SrO0iJoth5hC",
        "colab_type": "code",
        "colab": {
          "base_uri": "https://localhost:8080/",
          "height": 67
        },
        "outputId": "266de4dd-2dfe-4f83-e23c-0846a19cd853"
      },
      "source": [
        "Days={ 1:'Monday',\n",
        "       2:'Tuesday',\n",
        "       3:'Wednesday',\n",
        "       4:'Thursday',\n",
        "       5:'Friday',\n",
        "       6:'Saturday',\n",
        "       7:'Sunday'\n",
        "}\n",
        "for i in range(2):\n",
        "  selected_day=input('Select value of day to delete')\n",
        "  del Days[int(selected_day)]\n",
        "print(Days)"
      ],
      "execution_count": null,
      "outputs": [
        {
          "output_type": "stream",
          "text": [
            "Select value of day to delete1\n",
            "Select value of day to delete2\n",
            "{3: 'Wednesday', 4: 'Thursday', 5: 'Friday', 6: 'Saturday', 7: 'Sunday'}\n"
          ],
          "name": "stdout"
        }
      ]
    },
    {
      "cell_type": "code",
      "metadata": {
        "id": "TYCKvXtckeZV",
        "colab_type": "code",
        "colab": {
          "base_uri": "https://localhost:8080/",
          "height": 54
        },
        "outputId": "5128cbfa-33c5-4acf-cb18-2032bde897d2"
      },
      "source": [
        "persons = {\n",
        "            \"John\":{\n",
        "                \"age\":25,\n",
        "                \"sex\":\"Male\" \n",
        "                    },\n",
        "           \"Lisa\":{\n",
        "                \"age\":28,\n",
        "                \"sex\":\"Female\" \n",
        "                    },\n",
        "           \"Linda\":{\n",
        "                \"age\":32,\n",
        "                \"sex\":\"Female\"\n",
        "                    },\n",
        "           \"Micheal\":{\n",
        "                \"age\":41,\n",
        "                \"sex\":\"Male\" \n",
        "                    }\n",
        "                \n",
        "            \n",
        "        }\n",
        "persons['Micheal']['child'] = {\n",
        "    'Karen':{\"age\":12,\n",
        "              \"sex\":\"Female\"},\n",
        "    'Greg':{\"age\":7,\n",
        "              \"sex\":\"Male\"}\n",
        "\n",
        "}\n",
        "persons['Linda']['child'] = {\n",
        "    'Susan':{\"age\":6,\n",
        "              \"sex\":\"Female\"}\n",
        "\n",
        "}\n",
        "print(persons)"
      ],
      "execution_count": null,
      "outputs": [
        {
          "output_type": "stream",
          "text": [
            "{'John': {'age': 25, 'sex': 'Male'}, 'Lisa': {'age': 28, 'sex': 'Female'}, 'Linda': {'age': 32, 'sex': 'Female', 'child': {'Susan': {'age': 6, 'sex': 'Female'}}}, 'Micheal': {'age': 41, 'sex': 'Male', 'child': {'Karen': {'age': 12, 'sex': 'Female'}, 'Greg': {'age': 7, 'sex': 'Male'}}}}\n"
          ],
          "name": "stdout"
        }
      ]
    },
    {
      "cell_type": "code",
      "metadata": {
        "id": "T4KcVO4OsFyg",
        "colab_type": "code",
        "colab": {
          "base_uri": "https://localhost:8080/",
          "height": 34
        },
        "outputId": "56993152-bf56-4a30-96f4-888264c25669"
      },
      "source": [
        "print(persons['Micheal']['child'])"
      ],
      "execution_count": null,
      "outputs": [
        {
          "output_type": "stream",
          "text": [
            "{'Karen': {'age': 12, 'sex': 'Female'}, 'Greg': {'age': 7, 'sex': 'Male'}}\n"
          ],
          "name": "stdout"
        }
      ]
    },
    {
      "cell_type": "markdown",
      "metadata": {
        "id": "Zd57r8GJtVBe",
        "colab_type": "text"
      },
      "source": [
        "**Tuple and Set Assingment**"
      ]
    },
    {
      "cell_type": "code",
      "metadata": {
        "id": "PHD4MeW0tcCE",
        "colab_type": "code",
        "colab": {
          "base_uri": "https://localhost:8080/",
          "height": 50
        },
        "outputId": "517104cd-93d3-4037-a682-88cab98cd38b"
      },
      "source": [
        "week=( 'Monday',\n",
        "       'Tuesday',\n",
        "       'Wednesday',\n",
        "       'Thursday',\n",
        "       'Friday',\n",
        "       'Saturday',\n",
        "       'Sunday'\n",
        ")\n",
        "fruits={'apple','mango','orange'}\n",
        "new_fruits={ 'cherry', 'peach', 'apple', 'mango'}\n",
        "print(new_fruits.difference(fruits))\n",
        "print(new_fruits.intersection(fruits))"
      ],
      "execution_count": null,
      "outputs": [
        {
          "output_type": "stream",
          "text": [
            "{'peach', 'cherry'}\n",
            "{'apple', 'mango'}\n"
          ],
          "name": "stdout"
        }
      ]
    },
    {
      "cell_type": "markdown",
      "metadata": {
        "id": "oQkz0KIqyHmV",
        "colab_type": "text"
      },
      "source": [
        "**Conditional Statements Assingment**"
      ]
    },
    {
      "cell_type": "code",
      "metadata": {
        "id": "fXZphr1HueyK",
        "colab_type": "code",
        "colab": {
          "base_uri": "https://localhost:8080/",
          "height": 67
        },
        "outputId": "f5670da1-bdc6-4b68-ceb0-4888aa7e742e"
      },
      "source": [
        "type=input(\"enter type of degree F for fahrenheit,C for celcius\")\n",
        "if type=='F':\n",
        "  F=input(\"enter fahrenheit degree\")\n",
        "  C = (5/9) * (int(F) - 32)\n",
        "  print(\"{} fahrenheit is {} celcius\".format(F,C))\n",
        "elif type=='C':\n",
        "  C= F=input(\"enter celcius degree\")\n",
        "  F=int(C)*(9/5)+32\n",
        "  print(\"{} celcius is {} fahrenheit\".format(C,F))\n",
        "  \n"
      ],
      "execution_count": null,
      "outputs": [
        {
          "output_type": "stream",
          "text": [
            "enter type of degree F for fahrenheit,C for celciusF\n",
            "enter fahrenheit degree220\n",
            "220 fahrenheit is 104.44444444444444 celcius\n"
          ],
          "name": "stdout"
        }
      ]
    },
    {
      "cell_type": "code",
      "metadata": {
        "id": "scEoVrDTQCxk",
        "colab_type": "code",
        "colab": {
          "base_uri": "https://localhost:8080/",
          "height": 67
        },
        "outputId": "81aedc37-a20a-47f2-87eb-f6f8f76658b1"
      },
      "source": [
        "salary=input(\"enter your salary\")\n",
        "year=input(\"enter your year of service\")\n",
        "salary=float(salary)\n",
        "year=int(year)\n",
        "if year>5:\n",
        "  salary=salary+salary*0.05\n",
        "  print(\"Your bonus is \",salary)\n",
        "else:\n",
        "  print(\"Sorry you can not get bonus\")\n",
        "\n"
      ],
      "execution_count": null,
      "outputs": [
        {
          "output_type": "stream",
          "text": [
            "enter your salary5500\n",
            "enter your year of service6\n",
            "Your bonus is  5775.0\n"
          ],
          "name": "stdout"
        }
      ]
    },
    {
      "cell_type": "code",
      "metadata": {
        "id": "j_zpVrBOxW8N",
        "colab_type": "code",
        "colab": {
          "base_uri": "https://localhost:8080/",
          "height": 118
        },
        "outputId": "deed158c-b10e-471c-e91a-922fe9c9abb7"
      },
      "source": [
        "ages=[]\n",
        "for i in range(3):\n",
        "  age=input(\"enter age \")\n",
        "  ages.append(int(age))\n",
        "print(ages)  \n",
        "print(\"Oldest age \",max(ages))\n",
        "print(\"Youngest age \",min(ages))  "
      ],
      "execution_count": null,
      "outputs": [
        {
          "output_type": "stream",
          "text": [
            "enter age 2\n",
            "enter age 52\n",
            "enter age 12\n",
            "[2, 52, 12]\n",
            "Oldest age  52\n",
            "Youngest age  2\n"
          ],
          "name": "stdout"
        }
      ]
    },
    {
      "cell_type": "code",
      "metadata": {
        "id": "quIjPdjZ6m9A",
        "colab_type": "code",
        "colab": {
          "base_uri": "https://localhost:8080/",
          "height": 67
        },
        "outputId": "d4ac0102-d39a-49ac-8663-be11a20bb773"
      },
      "source": [
        "classes=input(\"enter number of classes held\")\n",
        "attent=input(\"enter number of classes attended\")\n",
        "attent=int(attent)\n",
        "classes=int(classes)\n",
        "if attent/classes >= 0.75:\n",
        "  print(\"you can attent to exam\")\n",
        "else:\n",
        "  print(\"you are not allowed to exam\")"
      ],
      "execution_count": null,
      "outputs": [
        {
          "output_type": "stream",
          "text": [
            "enter number of classes held10\n",
            "enter number of classes attended7\n",
            "you are not allowed to exam\n"
          ],
          "name": "stdout"
        }
      ]
    },
    {
      "cell_type": "code",
      "metadata": {
        "id": "z2pETbft8COw",
        "colab_type": "code",
        "colab": {
          "base_uri": "https://localhost:8080/",
          "height": 50
        },
        "outputId": "763d565f-f866-4d21-a397-de88082d4eb1"
      },
      "source": [
        "letter=input(\"enter a letter\")\n",
        "if letter=='a' or letter=='e' or letter=='i' or letter=='o' or letter=='u':\n",
        "  print( \"letter is a vowel.\")\n",
        "elif letter=='y':\n",
        "  print(\" y is sometimes a vowel and sometimes a consonant.\")\n",
        "else:\n",
        "  print(\" the letter is a consonant.\")"
      ],
      "execution_count": null,
      "outputs": [
        {
          "output_type": "stream",
          "text": [
            "enter a lettery\n",
            " y is sometimes a vowel and sometimes a consonant.\n"
          ],
          "name": "stdout"
        }
      ]
    },
    {
      "cell_type": "markdown",
      "metadata": {
        "id": "F0BwBIiN9saB",
        "colab_type": "text"
      },
      "source": [
        "**Loops Assingments**"
      ]
    },
    {
      "cell_type": "code",
      "metadata": {
        "id": "BG5urgVo9wPm",
        "colab_type": "code",
        "colab": {
          "base_uri": "https://localhost:8080/",
          "height": 202
        },
        "outputId": "f57e7196-b67a-466c-cdfe-9b4a18993602"
      },
      "source": [
        "num=input(\"enter a number \")\n",
        "num=int(num)\n",
        "for i in range(1,11):\n",
        "  print(\"{} x {} = {}\".format(num,i,num*i))\n"
      ],
      "execution_count": null,
      "outputs": [
        {
          "output_type": "stream",
          "text": [
            "enter a number 6\n",
            "6 x 1 = 6\n",
            "6 x 2 = 12\n",
            "6 x 3 = 18\n",
            "6 x 4 = 24\n",
            "6 x 5 = 30\n",
            "6 x 6 = 36\n",
            "6 x 7 = 42\n",
            "6 x 8 = 48\n",
            "6 x 9 = 54\n",
            "6 x 10 = 60\n"
          ],
          "name": "stdout"
        }
      ]
    },
    {
      "cell_type": "code",
      "metadata": {
        "id": "Ar0KQGGxDW5j",
        "colab_type": "code",
        "colab": {
          "base_uri": "https://localhost:8080/",
          "height": 67
        },
        "outputId": "96769aa3-31f1-4913-b1f3-1936e997f435"
      },
      "source": [
        "odds=[]\n",
        "evens=[]\n",
        "nums=[]\n",
        "for i in range (21):\n",
        "  if i%2==0:\n",
        "    i=i**3\n",
        "    evens.append(i)\n",
        "    nums.append(i)\n",
        "  else:\n",
        "    i=i**2\n",
        "    odds.append(i) \n",
        "    nums.append(i)\n",
        "print(odds)\n",
        "print(evens)\n",
        "print(nums)\n"
      ],
      "execution_count": null,
      "outputs": [
        {
          "output_type": "stream",
          "text": [
            "[1, 9, 25, 49, 81, 121, 169, 225, 289, 361]\n",
            "[0, 8, 64, 216, 512, 1000, 1728, 2744, 4096, 5832, 8000]\n",
            "[0, 1, 8, 9, 64, 25, 216, 49, 512, 81, 1000, 121, 1728, 169, 2744, 225, 4096, 289, 5832, 361, 8000]\n"
          ],
          "name": "stdout"
        }
      ]
    },
    {
      "cell_type": "code",
      "metadata": {
        "id": "NJjDBwo_Httj",
        "colab_type": "code",
        "colab": {
          "base_uri": "https://localhost:8080/",
          "height": 50
        },
        "outputId": "d73779d3-bb0a-41a3-f84f-9bf18ea65168"
      },
      "source": [
        "user_input=[]\n",
        "user_input=input(\"enter input\")\n",
        "\n",
        "for i in range(len(user_input)-1,-1,-1):\n",
        "  print(user_input[i],end='')\n",
        "  "
      ],
      "execution_count": null,
      "outputs": [
        {
          "output_type": "stream",
          "text": [
            "enter inputautomobile\n",
            "elibomotua"
          ],
          "name": "stdout"
        }
      ]
    },
    {
      "cell_type": "code",
      "metadata": {
        "id": "ILSsVkWzLHrP",
        "colab_type": "code",
        "colab": {
          "base_uri": "https://localhost:8080/",
          "height": 70
        },
        "outputId": "625e05d1-c914-4fbe-977e-82965b081105"
      },
      "source": [
        "odds=[]\n",
        "evens=[]\n",
        "\n",
        "for i in range(1, 201):\n",
        "  if i%2==0:\n",
        "    evens.append(i)\n",
        "\n",
        "  else:\n",
        "    odds.append(i) \n",
        "print(odds)\n",
        "print(evens)"
      ],
      "execution_count": null,
      "outputs": [
        {
          "output_type": "stream",
          "text": [
            "[1, 3, 5, 7, 9, 11, 13, 15, 17, 19, 21, 23, 25, 27, 29, 31, 33, 35, 37, 39, 41, 43, 45, 47, 49, 51, 53, 55, 57, 59, 61, 63, 65, 67, 69, 71, 73, 75, 77, 79, 81, 83, 85, 87, 89, 91, 93, 95, 97, 99, 101, 103, 105, 107, 109, 111, 113, 115, 117, 119, 121, 123, 125, 127, 129, 131, 133, 135, 137, 139, 141, 143, 145, 147, 149, 151, 153, 155, 157, 159, 161, 163, 165, 167, 169, 171, 173, 175, 177, 179, 181, 183, 185, 187, 189, 191, 193, 195, 197, 199]\n",
            "[2, 4, 6, 8, 10, 12, 14, 16, 18, 20, 22, 24, 26, 28, 30, 32, 34, 36, 38, 40, 42, 44, 46, 48, 50, 52, 54, 56, 58, 60, 62, 64, 66, 68, 70, 72, 74, 76, 78, 80, 82, 84, 86, 88, 90, 92, 94, 96, 98, 100, 102, 104, 106, 108, 110, 112, 114, 116, 118, 120, 122, 124, 126, 128, 130, 132, 134, 136, 138, 140, 142, 144, 146, 148, 150, 152, 154, 156, 158, 160, 162, 164, 166, 168, 170, 172, 174, 176, 178, 180, 182, 184, 186, 188, 190, 192, 194, 196, 198, 200]\n"
          ],
          "name": "stdout"
        }
      ]
    },
    {
      "cell_type": "code",
      "metadata": {
        "id": "cDALGjxHSG4e",
        "colab_type": "code",
        "colab": {
          "base_uri": "https://localhost:8080/",
          "height": 34
        },
        "outputId": "6ce8f91d-96df-4cc4-f10b-2ddfa1c32abb"
      },
      "source": [
        "def count(list,n):\n",
        "  count=0  \n",
        "  for i in range(len(list)):\n",
        "    if list[i]==n:\n",
        "      count+=1\n",
        "  return count      \n",
        "\n",
        "list1=[1,2,1,1]\n",
        "count(list1,1)    "
      ],
      "execution_count": null,
      "outputs": [
        {
          "output_type": "execute_result",
          "data": {
            "text/plain": [
              "3"
            ]
          },
          "metadata": {
            "tags": []
          },
          "execution_count": 33
        }
      ]
    },
    {
      "cell_type": "code",
      "metadata": {
        "id": "5WYse8L2X8o8",
        "colab_type": "code",
        "colab": {
          "base_uri": "https://localhost:8080/",
          "height": 34
        },
        "outputId": "a2e3469b-6fc2-49e6-a841-321874dda03b"
      },
      "source": [
        "def digit_sum(n):\n",
        "  n=str(n)\n",
        "  sum_of_digit=0\n",
        "  for i in range(len(n)):\n",
        "    n=int(n)\n",
        "    digit=n%10\n",
        "    sum_of_digit+=digit\n",
        "    n=n-digit\n",
        "    n//=10\n",
        "  if sum_of_digit>9:\n",
        "    n=sum_of_digit\n",
        "    return digit_sum(n)\n",
        "  else:\n",
        "    return sum_of_digit \n",
        "\n",
        "  \n",
        "  \n",
        "digit_sum(27684)  "
      ],
      "execution_count": null,
      "outputs": [
        {
          "output_type": "execute_result",
          "data": {
            "text/plain": [
              "9"
            ]
          },
          "metadata": {
            "tags": []
          },
          "execution_count": 104
        }
      ]
    },
    {
      "cell_type": "code",
      "metadata": {
        "id": "vP3DodG_vU74",
        "colab_type": "code",
        "colab": {
          "base_uri": "https://localhost:8080/",
          "height": 34
        },
        "outputId": "7a903c85-ceb7-462a-d776-2305fd0b9f84"
      },
      "source": [
        "def gcd(x, y):\n",
        "    while y != 0:\n",
        "        (x, y) = (y, x % y)\n",
        "    return x\n",
        "\n",
        "gcd(12,80)"
      ],
      "execution_count": null,
      "outputs": [
        {
          "output_type": "execute_result",
          "data": {
            "text/plain": [
              "4"
            ]
          },
          "metadata": {
            "tags": []
          },
          "execution_count": 116
        }
      ]
    },
    {
      "cell_type": "code",
      "metadata": {
        "id": "z6TjhjvQ0X_5",
        "colab_type": "code",
        "colab": {
          "base_uri": "https://localhost:8080/",
          "height": 34
        },
        "outputId": "639bba4a-15da-492d-9e65-34aff13c0296"
      },
      "source": [
        "n=15\n",
        "if n%3==0:\n",
        "  print(\"fizz\",end='')\n",
        "if n%5==0:\n",
        "  print(\"buzz\",end='')\n",
        "\n",
        "  "
      ],
      "execution_count": null,
      "outputs": [
        {
          "output_type": "stream",
          "text": [
            "fizzbuzz"
          ],
          "name": "stdout"
        }
      ]
    },
    {
      "cell_type": "code",
      "metadata": {
        "id": "oqz97hIm03DP",
        "colab_type": "code",
        "colab": {
          "base_uri": "https://localhost:8080/",
          "height": 54
        },
        "outputId": "49c21d06-1d75-4d8d-a48c-55df04e49adb"
      },
      "source": [
        "nterms = 50\n",
        "# first two terms\n",
        "n1, n2 = 1, 1\n",
        "count = 0\n",
        "list_fib=[]\n",
        "while count < nterms:\n",
        "    \n",
        "    list_fib.append(n1)\n",
        "    nth = n1 + n2\n",
        "    # update values\n",
        "    n1 = n2\n",
        "    n2 = nth\n",
        "    count += 1\n",
        "print(list_fib)   "
      ],
      "execution_count": null,
      "outputs": [
        {
          "output_type": "stream",
          "text": [
            "[1, 1, 2, 3, 5, 8, 13, 21, 34, 55, 89, 144, 233, 377, 610, 987, 1597, 2584, 4181, 6765, 10946, 17711, 28657, 46368, 75025, 121393, 196418, 317811, 514229, 832040, 1346269, 2178309, 3524578, 5702887, 9227465, 14930352, 24157817, 39088169, 63245986, 102334155, 165580141, 267914296, 433494437, 701408733, 1134903170, 1836311903, 2971215073, 4807526976, 7778742049, 12586269025]\n"
          ],
          "name": "stdout"
        }
      ]
    },
    {
      "cell_type": "markdown",
      "metadata": {
        "id": "pcZakVrG3qi-",
        "colab_type": "text"
      },
      "source": [
        "**Functions Assingment**"
      ]
    },
    {
      "cell_type": "code",
      "metadata": {
        "id": "byMnIFk53ufb",
        "colab_type": "code",
        "colab": {
          "base_uri": "https://localhost:8080/",
          "height": 34
        },
        "outputId": "3292dff6-056b-4e84-86a3-ca938e133959"
      },
      "source": [
        "def is_prime(num):\n",
        "  if num > 1: \n",
        "      \n",
        "   # Iterate from 2 to n / 2  \n",
        "   for i in range(2, num): \n",
        "         \n",
        "       # If num is divisible by any number between  \n",
        "       # 2 and n / 2, it is not prime  \n",
        "       if (num % i) == 0: \n",
        "           Return False\n",
        "           break\n",
        "   else: \n",
        "       return True\n",
        "  \n",
        "  else: \n",
        "   return True\n",
        "    \n",
        "is_prime(13)"
      ],
      "execution_count": null,
      "outputs": [
        {
          "output_type": "stream",
          "text": [
            "13 is a prime number\n"
          ],
          "name": "stdout"
        }
      ]
    },
    {
      "cell_type": "code",
      "metadata": {
        "id": "mwMylUde67qs",
        "colab_type": "code",
        "colab": {
          "base_uri": "https://localhost:8080/",
          "height": 34
        },
        "outputId": "4bef5aca-a0b0-42c7-dc63-bd72f6e3b186"
      },
      "source": [
        "def unique(list):\n",
        "  unique_list=[]\n",
        "  unique_list.append(list[0])\n",
        "  for x in list:\n",
        "    if x in unique_list:\n",
        "      continue\n",
        "    else: \n",
        "      unique_list.append(x)  \n",
        "  print(unique_list)\n",
        "     \n",
        "unique([1,2,2,3,3,4,4])  \n"
      ],
      "execution_count": null,
      "outputs": [
        {
          "output_type": "stream",
          "text": [
            "[1, 2, 3, 4]\n"
          ],
          "name": "stdout"
        }
      ]
    },
    {
      "cell_type": "code",
      "metadata": {
        "id": "e27st_Lv-6Op",
        "colab_type": "code",
        "colab": {
          "base_uri": "https://localhost:8080/",
          "height": 34
        },
        "outputId": "5f6c45b7-c969-41d4-cc06-e6c2e9b66c46"
      },
      "source": [
        "from datetime import date \n",
        "  \n",
        "def calculateAge(birthDate): \n",
        "    today = date.today() \n",
        "    age = today.year - birthDate.year - ((today.month, today.day) < (birthDate.month, birthDate.day)) \n",
        "  \n",
        "    return age \n",
        "      \n",
        "# Driver code  \n",
        "print(calculateAge(date(1998, 7, 18)), \"years old\")"
      ],
      "execution_count": null,
      "outputs": [
        {
          "output_type": "stream",
          "text": [
            "22 years old\n"
          ],
          "name": "stdout"
        }
      ]
    },
    {
      "cell_type": "code",
      "metadata": {
        "id": "LETpg-Vs_Rvy",
        "colab_type": "code",
        "colab": {
          "base_uri": "https://localhost:8080/",
          "height": 34
        },
        "outputId": "1c47eed1-3447-4459-8490-b340db106f69"
      },
      "source": [
        "def factorial(n):\n",
        "  fact=1\n",
        "  for i in range(1,n+1):\n",
        "    fact*=i\n",
        "  return fact\n",
        "\n",
        "factorial(4)"
      ],
      "execution_count": null,
      "outputs": [
        {
          "output_type": "execute_result",
          "data": {
            "text/plain": [
              "24"
            ]
          },
          "metadata": {
            "tags": []
          },
          "execution_count": 166
        }
      ]
    },
    {
      "cell_type": "code",
      "metadata": {
        "id": "DlRrzmK-BdLo",
        "colab_type": "code",
        "colab": {
          "base_uri": "https://localhost:8080/",
          "height": 34
        },
        "outputId": "5a93e1be-ac57-434c-d534-0e4e7e704aba"
      },
      "source": [
        "def perfect(number):\n",
        "  Sum = 0\n",
        "  for i in range(1, number):\n",
        "      if(number % i == 0):\n",
        "          Sum = Sum + i\n",
        "  if (Sum == number):\n",
        "      print(\" %d is a Perfect Number\" %number)\n",
        "  else:\n",
        "      print(\" %d is not a Perfect Number\" %number)\n",
        "perfect(6)"
      ],
      "execution_count": null,
      "outputs": [
        {
          "output_type": "stream",
          "text": [
            " 6 is a Perfect Number\n"
          ],
          "name": "stdout"
        }
      ]
    },
    {
      "cell_type": "code",
      "metadata": {
        "id": "5mDfjV6ACQvb",
        "colab_type": "code",
        "colab": {
          "base_uri": "https://localhost:8080/",
          "height": 101
        },
        "outputId": "e5b37027-f40d-406d-9acf-e101e32d2ea4"
      },
      "source": [
        "n=int(input(\"Enter number of rows: \"))\n",
        "a=[]\n",
        "for i in range(n):\n",
        "    a.append([])\n",
        "    a[i].append(1)\n",
        "    for j in range(1,i):\n",
        "        a[i].append(a[i-1][j-1]+a[i-1][j])\n",
        "    if(n!=0):\n",
        "        a[i].append(1)\n",
        "for i in range(n):\n",
        "    print(\"   \"*(n-i),end=\" \",sep=\" \")\n",
        "    for j in range(0,i+1):\n",
        "        print('{0:6}'.format(a[i][j]),end=\" \",sep=\" \")\n",
        "    print()"
      ],
      "execution_count": null,
      "outputs": [
        {
          "output_type": "stream",
          "text": [
            "Enter number of rows: 4\n",
            "                  1 \n",
            "               1      1 \n",
            "            1      2      1 \n",
            "         1      3      3      1 \n"
          ],
          "name": "stdout"
        }
      ]
    },
    {
      "cell_type": "markdown",
      "metadata": {
        "id": "wXf6CtouFB1x",
        "colab_type": "text"
      },
      "source": [
        "**Classes Assingment**"
      ]
    },
    {
      "cell_type": "code",
      "metadata": {
        "id": "wnTIWAvaFEIj",
        "colab_type": "code",
        "colab": {}
      },
      "source": [
        "class item:\n",
        "  def __init__(self, item_name,price):\n",
        "        self.item_name = item_name\n",
        "        self.price= price\n",
        "class customer:\n",
        "  def __init__(self,customer_id, phone_number):\n",
        "        self.customer_id = customer_id\n",
        "        self.phone_number=phone_number    \n",
        "  def purchase(item_name,count,price):\n",
        "    print(price*count)\n",
        "    "
      ],
      "execution_count": null,
      "outputs": []
    },
    {
      "cell_type": "code",
      "metadata": {
        "id": "-lWCiq8gKJEV",
        "colab_type": "code",
        "colab": {
          "base_uri": "https://localhost:8080/",
          "height": 34
        },
        "outputId": "c98220b7-a20a-45bf-b6ad-44661bef0f71"
      },
      "source": [
        "def main():\n",
        "  items=item('item',120)\n",
        "  custom=customer(1,534)\n",
        "  custom.purchase(items.price,2)    \n",
        "if __name__=='__main__':\n",
        "    main()"
      ],
      "execution_count": null,
      "outputs": [
        {
          "output_type": "stream",
          "text": [
            "240\n"
          ],
          "name": "stdout"
        }
      ]
    },
    {
      "cell_type": "markdown",
      "metadata": {
        "id": "MNZP7cpvQTYm",
        "colab_type": "text"
      },
      "source": [
        "**Errors Exception Handling**"
      ]
    },
    {
      "cell_type": "code",
      "metadata": {
        "id": "6cfMeMv8QZ9S",
        "colab_type": "code",
        "colab": {
          "base_uri": "https://localhost:8080/",
          "height": 34
        },
        "outputId": "25a376ad-2717-49f0-ad50-c1fef5dc070c"
      },
      "source": [
        "def handling(x):\n",
        "  try:\n",
        "    x=1/0\n",
        "    \n",
        "  except Exception as e:\n",
        "    print (\"'{}' error occurred! \".format(e))\n",
        "handling(10)    "
      ],
      "execution_count": null,
      "outputs": [
        {
          "output_type": "stream",
          "text": [
            "'division by zero' error occurred! \n"
          ],
          "name": "stdout"
        }
      ]
    },
    {
      "cell_type": "code",
      "metadata": {
        "id": "6iocZoveRZwl",
        "colab_type": "code",
        "colab": {
          "base_uri": "https://localhost:8080/",
          "height": 34
        },
        "outputId": "4270277e-097d-45e7-8657-108047173845"
      },
      "source": [
        "def name_error():\n",
        "    try:\n",
        "      print(hello)\n",
        "    except NameError as err:\n",
        "      print(\"Name is not defined\")\n",
        "name_error()"
      ],
      "execution_count": null,
      "outputs": [
        {
          "output_type": "stream",
          "text": [
            "Name is not defined\n"
          ],
          "name": "stdout"
        }
      ]
    },
    {
      "cell_type": "code",
      "metadata": {
        "id": "XxlQ-MVYQ2TY",
        "colab_type": "code",
        "colab": {
          "base_uri": "https://localhost:8080/",
          "height": 34
        },
        "outputId": "ca8596d7-2de4-4f26-ab90-637d90e97a0a"
      },
      "source": [
        "def handle_error_by_returning_none(input_data):\n",
        "    try:\n",
        "        return int(input_data)\n",
        "    \n",
        "    except ValueError:\n",
        "        print('Wrong data type') \n",
        "handle_error_by_returning_none('Adam')"
      ],
      "execution_count": null,
      "outputs": [
        {
          "output_type": "stream",
          "text": [
            "Wrong data type\n"
          ],
          "name": "stdout"
        }
      ]
    },
    {
      "cell_type": "markdown",
      "metadata": {
        "id": "zFeoSpzEVNI_",
        "colab_type": "text"
      },
      "source": [
        "**File Operations**"
      ]
    },
    {
      "cell_type": "code",
      "metadata": {
        "id": "hDHChGvaVSo0",
        "colab_type": "code",
        "colab": {
          "base_uri": "https://localhost:8080/",
          "height": 70
        },
        "outputId": "1da1184f-0f4b-4d9a-c791-1012e0e5cef4"
      },
      "source": [
        "from google.colab import drive\n",
        "drive.mount('/content/drive/')\n",
        "import os\n",
        "os.chdir(\"/content/drive/My Drive/Colab Notebooks\")\n",
        "\n",
        "\n",
        "with open(\"poem.txt\", \"r\", encoding='utf8') as f:\n",
        "    line=f.readline()\n",
        "    rest_of_lines=f.readlines()\n",
        "    \n",
        "print(rest_of_lines)"
      ],
      "execution_count": null,
      "outputs": [
        {
          "output_type": "stream",
          "text": [
            "Drive already mounted at /content/drive/; to attempt to forcibly remount, call drive.mount(\"/content/drive/\", force_remount=True).\n",
            "['Where giant reddish-purple cauliflowers\\n', '& white ones in French & English are outside\\n', 'Waiting to welcome you to a boat\\n', 'Over the low black river for a big dinner\\n', \"There's alot of choice among the foods\\n\", 'Even a tortured lamb']\n"
          ],
          "name": "stdout"
        }
      ]
    },
    {
      "cell_type": "markdown",
      "metadata": {
        "id": "JaLLqECdXrp4",
        "colab_type": "text"
      },
      "source": [
        "**Python Data Sceince Libraries**"
      ]
    },
    {
      "cell_type": "code",
      "metadata": {
        "id": "HuUKEFoOW3fo",
        "colab_type": "code",
        "colab": {}
      },
      "source": [
        "import numpy as np"
      ],
      "execution_count": null,
      "outputs": []
    },
    {
      "cell_type": "code",
      "metadata": {
        "id": "eUCLGpXgXy8y",
        "colab_type": "code",
        "colab": {
          "base_uri": "https://localhost:8080/",
          "height": 67
        },
        "outputId": "f8e288f4-382c-4ae2-d7ba-c009cdd56091"
      },
      "source": [
        "house_size= list(range(100,300,20))\n",
        "rooms = list(range(1,11,1))\n",
        "price=list(range(10000,50000,4000))\n",
        "\n",
        "size_arr=np.array(house_size)\n",
        "rooms_arr=np.array(rooms)\n",
        "price_arr=np.array(size_arr)\n",
        "\n",
        "all=np.array([size_arr, rooms, price])\n",
        "print(all)"
      ],
      "execution_count": null,
      "outputs": [
        {
          "output_type": "stream",
          "text": [
            "[[  100   120   140   160   180   200   220   240   260   280]\n",
            " [    1     2     3     4     5     6     7     8     9    10]\n",
            " [10000 14000 18000 22000 26000 30000 34000 38000 42000 46000]]\n"
          ],
          "name": "stdout"
        }
      ]
    },
    {
      "cell_type": "code",
      "metadata": {
        "id": "s4M-X3gBmGB7",
        "colab_type": "code",
        "colab": {
          "base_uri": "https://localhost:8080/",
          "height": 185
        },
        "outputId": "5c3ff542-56d1-440f-f3fb-83298eddce0c"
      },
      "source": [
        "t_all=all.T\n",
        "print(t_all)"
      ],
      "execution_count": null,
      "outputs": [
        {
          "output_type": "stream",
          "text": [
            "[[  100     1 10000]\n",
            " [  120     2 14000]\n",
            " [  140     3 18000]\n",
            " [  160     4 22000]\n",
            " [  180     5 26000]\n",
            " [  200     6 30000]\n",
            " [  220     7 34000]\n",
            " [  240     8 38000]\n",
            " [  260     9 42000]\n",
            " [  280    10 46000]]\n"
          ],
          "name": "stdout"
        }
      ]
    },
    {
      "cell_type": "markdown",
      "metadata": {
        "id": "6FBcFNYNpbPr",
        "colab_type": "text"
      },
      "source": [
        "shape function display size of array"
      ]
    },
    {
      "cell_type": "code",
      "metadata": {
        "id": "bx3kYqlNpS_0",
        "colab_type": "code",
        "colab": {
          "base_uri": "https://localhost:8080/",
          "height": 34
        },
        "outputId": "21cb86b5-12bd-4903-c851-e929b80ac7cb"
      },
      "source": [
        "t_all.shape"
      ],
      "execution_count": null,
      "outputs": [
        {
          "output_type": "execute_result",
          "data": {
            "text/plain": [
              "(10, 3)"
            ]
          },
          "metadata": {
            "tags": []
          },
          "execution_count": 269
        }
      ]
    },
    {
      "cell_type": "code",
      "metadata": {
        "id": "hch1pAnIpvQu",
        "colab_type": "code",
        "colab": {
          "base_uri": "https://localhost:8080/",
          "height": 118
        },
        "outputId": "47894875-bc8b-4535-ad16-bd38c91c034a"
      },
      "source": [
        "arr=np.ones((6,5))\n",
        "for i in range(6):\n",
        "  for j in range(5):\n",
        "    if i%2==1 and j%2==1:\n",
        "      arr[i][j]=0\n",
        "print(arr)      "
      ],
      "execution_count": null,
      "outputs": [
        {
          "output_type": "stream",
          "text": [
            "[[1. 1. 1. 1. 1.]\n",
            " [1. 0. 1. 0. 1.]\n",
            " [1. 1. 1. 1. 1.]\n",
            " [1. 0. 1. 0. 1.]\n",
            " [1. 1. 1. 1. 1.]\n",
            " [1. 0. 1. 0. 1.]]\n"
          ],
          "name": "stdout"
        }
      ]
    },
    {
      "cell_type": "markdown",
      "metadata": {
        "id": "QTQS68HasCEP",
        "colab_type": "text"
      },
      "source": [
        "**Indexing And Slicing Of Numpy Arrays Assingment**"
      ]
    },
    {
      "cell_type": "code",
      "metadata": {
        "id": "dGTVjqhmsSeH",
        "colab_type": "code",
        "colab": {}
      },
      "source": [
        "import pandas as pd\n",
        "mydata= pd.read_csv(\"Earthquakes.csv\")"
      ],
      "execution_count": null,
      "outputs": []
    },
    {
      "cell_type": "code",
      "metadata": {
        "id": "83AmLTx5s0T5",
        "colab_type": "code",
        "colab": {
          "base_uri": "https://localhost:8080/",
          "height": 353
        },
        "outputId": "7130236b-6f9b-482d-c74e-cb440ba77334"
      },
      "source": [
        "data_arr=np.array(mydata)\n",
        "data_arr=data_arr[0:20,[ 3, 5, 6, 7, 12]]\n",
        "data_arr"
      ],
      "execution_count": null,
      "outputs": [
        {
          "output_type": "execute_result",
          "data": {
            "text/plain": [
              "array([[ 0.    , 37.4341, 35.852 ,  7.02  ,  4.1   ],\n",
              "       [ 0.    , 37.6878, 37.4016, 10.27  ,  4.4   ],\n",
              "       [ 0.    , 37.2003, 30.4376, 78.07  ,  4.    ],\n",
              "       [ 0.    , 35.6846, 26.7266, 42.77  ,  4.5   ],\n",
              "       [ 0.    , 36.4171, 28.6991, 14.86  ,  4.1   ],\n",
              "       [ 0.    , 36.0535, 31.2135, 36.68  ,  5.2   ],\n",
              "       [ 0.    , 37.1958, 30.6241, 50.33  ,  4.8   ],\n",
              "       [ 0.    , 36.9653, 27.7633,  6.93  ,  4.3   ],\n",
              "       [ 0.    , 38.893 , 26.4483, 11.62  ,  4.2   ],\n",
              "       [ 0.    , 37.3773, 36.3855, 10.53  ,  4.8   ],\n",
              "       [ 0.    , 35.8861, 26.0695, 28.49  ,  4.9   ],\n",
              "       [ 0.    , 37.4635, 36.3113, 15.29  ,  4.3   ],\n",
              "       [ 0.    , 37.0201, 36.0845, 10.    ,  4.1   ],\n",
              "       [ 0.    , 37.6546, 26.6698,  4.5   ,  4.5   ],\n",
              "       [ 0.    , 37.5318, 29.848 , 17.58  ,  4.6   ],\n",
              "       [ 0.    , 39.0388, 44.1533,  7.52  ,  4.5   ],\n",
              "       [ 0.    , 38.357 , 44.8686, 10.05  ,  4.1   ],\n",
              "       [ 0.    , 35.7018, 28.1495,  6.25  ,  4.1   ],\n",
              "       [ 0.    , 37.6883, 37.3968, 10.63  ,  4.1   ],\n",
              "       [ 0.    , 42.1821, 42.5928,  5.81  ,  4.    ]])"
            ]
          },
          "metadata": {
            "tags": []
          },
          "execution_count": 335
        }
      ]
    },
    {
      "cell_type": "code",
      "metadata": {
        "id": "ROSpzx1suc3e",
        "colab_type": "code",
        "colab": {
          "base_uri": "https://localhost:8080/",
          "height": 34
        },
        "outputId": "4827f580-fed6-42de-9424-75820129993a"
      },
      "source": [
        "np.where(data_arr[:,-1]>=4.5)"
      ],
      "execution_count": null,
      "outputs": [
        {
          "output_type": "execute_result",
          "data": {
            "text/plain": [
              "(array([ 3,  5,  6,  9, 10, 13, 14, 15]),)"
            ]
          },
          "metadata": {
            "tags": []
          },
          "execution_count": 337
        }
      ]
    },
    {
      "cell_type": "code",
      "metadata": {
        "id": "hGioJa4d4wy0",
        "colab_type": "code",
        "colab": {
          "base_uri": "https://localhost:8080/",
          "height": 353
        },
        "outputId": "3ff06887-75e8-4ae9-e016-76a87f0f1189"
      },
      "source": [
        "row[0]=1\n",
        "print(row)"
      ],
      "execution_count": null,
      "outputs": [
        {
          "output_type": "stream",
          "text": [
            "[[1. ]\n",
            " [4.4]\n",
            " [4. ]\n",
            " [4.5]\n",
            " [4.1]\n",
            " [5.2]\n",
            " [4.8]\n",
            " [4.3]\n",
            " [4.2]\n",
            " [4.8]\n",
            " [4.9]\n",
            " [4.3]\n",
            " [4.1]\n",
            " [4.5]\n",
            " [4.6]\n",
            " [4.5]\n",
            " [4.1]\n",
            " [4.1]\n",
            " [4.1]\n",
            " [4. ]]\n"
          ],
          "name": "stdout"
        }
      ]
    },
    {
      "cell_type": "markdown",
      "metadata": {
        "id": "ZGGfXamP1kzH",
        "colab_type": "text"
      },
      "source": [
        "**Mathematical Operations Numpy Array**"
      ]
    },
    {
      "cell_type": "code",
      "metadata": {
        "id": "NBA66z_11piS",
        "colab_type": "code",
        "colab": {
          "base_uri": "https://localhost:8080/",
          "height": 34
        },
        "outputId": "c61e7962-a14f-4533-afa2-ed752ad3571e"
      },
      "source": [
        "np.mean(data_arr,axis=0)"
      ],
      "execution_count": null,
      "outputs": [
        {
          "output_type": "execute_result",
          "data": {
            "text/plain": [
              "array([ 0.      , 37.471645, 33.184785, 19.26    ,  4.38    ])"
            ]
          },
          "metadata": {
            "tags": []
          },
          "execution_count": 347
        }
      ]
    },
    {
      "cell_type": "code",
      "metadata": {
        "id": "hCdjtAXr6JzO",
        "colab_type": "code",
        "colab": {
          "base_uri": "https://localhost:8080/",
          "height": 34
        },
        "outputId": "a4dac5f6-0b44-4253-aa2c-d107aa01d0bf"
      },
      "source": [
        "np.std(data_arr,axis=0)"
      ],
      "execution_count": null,
      "outputs": [
        {
          "output_type": "execute_result",
          "data": {
            "text/plain": [
              "array([ 0.        ,  1.4170855 ,  5.91839567, 18.53566724,  0.33105891])"
            ]
          },
          "metadata": {
            "tags": []
          },
          "execution_count": 349
        }
      ]
    },
    {
      "cell_type": "code",
      "metadata": {
        "id": "o7iR21yA7POm",
        "colab_type": "code",
        "colab": {
          "base_uri": "https://localhost:8080/",
          "height": 34
        },
        "outputId": "1eb3cd0a-e919-4992-a640-2e5fc143c797"
      },
      "source": [
        "data_arr.shape"
      ],
      "execution_count": null,
      "outputs": [
        {
          "output_type": "execute_result",
          "data": {
            "text/plain": [
              "(20, 5)"
            ]
          },
          "metadata": {
            "tags": []
          },
          "execution_count": 350
        }
      ]
    },
    {
      "cell_type": "code",
      "metadata": {
        "id": "_AecCkN5CBPY",
        "colab_type": "code",
        "colab": {}
      },
      "source": [
        ""
      ],
      "execution_count": null,
      "outputs": []
    },
    {
      "cell_type": "code",
      "metadata": {
        "id": "7sVCNLzW6SNZ",
        "colab_type": "code",
        "colab": {}
      },
      "source": [
        "data_arr2=data_arr*2"
      ],
      "execution_count": null,
      "outputs": []
    }
  ]
}