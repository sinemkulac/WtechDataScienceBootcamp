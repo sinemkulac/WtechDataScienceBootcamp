{
 "cells": [
  {
   "cell_type": "markdown",
   "metadata": {},
   "source": [
    "# <font color=blue>Assignments for \"Main Statistical Concepts\"</font>"
   ]
  },
  {
   "cell_type": "markdown",
   "metadata": {},
   "source": [
    "Please upload your solutions to the following assignments as Jupyter Notebook to your GitHub account and share the GitHub link with the button below. You can talk to your mentor about the issues you have in mind or ask Slack at office time."
   ]
  },
  {
   "cell_type": "markdown",
   "metadata": {},
   "source": [
    "1. Analyze the central tendency and distribution measurements with the mathematical formula given above and the built-in codes available in python through 3 different data that you will generate using the numpy library !!!"
   ]
  },
  {
   "cell_type": "code",
   "execution_count": 24,
   "metadata": {},
   "outputs": [
    {
     "name": "stdout",
     "output_type": "stream",
     "text": [
      "median of weights: 65.62897390106403\n",
      "mode of heights: 179.50820759094887\n",
      "mean of age 35.59006493773699\n"
     ]
    }
   ],
   "source": [
    "import pandas as pd\n",
    "import numpy as np\n",
    "import statistics\n",
    "\n",
    "data = pd.DataFrame()\n",
    "data['gender'] = ['male'] * 100 + ['female'] * 100\n",
    "data['weight'] = np.append(np.random.normal(69, 8, 100), np.random.normal(64, 5, 100))\n",
    "data['height'] = np.append(np.random.normal(195, 25, 100), np.random.normal(166, 15, 100))\n",
    "data['age'] = np.append(np.random.normal(35, 10, 100), np.random.normal(35, 0, 100))\n",
    "\n",
    "print(\"median of weights:\",statistics.median(data['weight']))\n",
    "print(\"mode of heights:\",statistics.mode(data['height']))\n",
    "print(\"mean of age\",statistics.mean(data['age']))"
   ]
  },
  {
   "cell_type": "code",
   "execution_count": 34,
   "metadata": {},
   "outputs": [
    {
     "name": "stdout",
     "output_type": "stream",
     "text": [
      "standart deviation of weights: 6.617580417252201\n",
      "variance of heights: 743.7458925486594\n",
      "standart error of ages: 0.5043240858177344\n"
     ]
    }
   ],
   "source": [
    "print(\"standart deviation of weights:\",np.std(data['weight'], ddof=1))\n",
    "print(\"variance of heights:\",np.var(data['height'], ddof=1))\n",
    "print(\"standart error of ages:\",np.std(data['age'], ddof=1)/np.sqrt(len(data['age'])))"
   ]
  },
  {
   "cell_type": "code",
   "execution_count": null,
   "metadata": {},
   "outputs": [],
   "source": []
  }
 ],
 "metadata": {
  "kernelspec": {
   "display_name": "Python 3",
   "language": "python",
   "name": "python3"
  },
  "language_info": {
   "codemirror_mode": {
    "name": "ipython",
    "version": 3
   },
   "file_extension": ".py",
   "mimetype": "text/x-python",
   "name": "python",
   "nbconvert_exporter": "python",
   "pygments_lexer": "ipython3",
   "version": "3.8.3"
  }
 },
 "nbformat": 4,
 "nbformat_minor": 4
}
