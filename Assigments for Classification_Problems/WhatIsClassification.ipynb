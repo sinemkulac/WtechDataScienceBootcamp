{
 "cells": [
  {
   "cell_type": "markdown",
   "metadata": {},
   "source": [
    "# Assignments\n",
    "Determine whether the following examples are classification problems or regression problems:\n",
    "\n",
    "1-Given the size of the house, estimating the price of it,\n",
    "\n",
    "2-From the clothes of those who come to see the house, to conclude who has a high or low probability of buying the house,\n",
    "\n",
    "3-Using parameters such as location and date, calculate the probability of rain,\n",
    "\n",
    "4-Estimating a one's salary using parameters such as education and experience,\n",
    "\n",
    "5-Estimation one's age,\n",
    "\n",
    "6-Estimation one's income,\n",
    "\n",
    "7-Estimate the direction of price of any stock.\n"
   ]
  },
  {
   "cell_type": "markdown",
   "metadata": {},
   "source": [
    "-------------------------------------------------------------------------------------------------------------------------------\n",
    "1-regression problem\n",
    "\n",
    "2-classfication problem \n",
    "\n",
    "3-regression problem\n",
    "\n",
    "4-regression problem\n",
    "\n",
    "5-classification problem?\n",
    "\n",
    "6-regression problems\n",
    "\n",
    "7-classification problems"
   ]
  },
  {
   "cell_type": "code",
   "execution_count": null,
   "metadata": {},
   "outputs": [],
   "source": []
  }
 ],
 "metadata": {
  "kernelspec": {
   "display_name": "Python 3",
   "language": "python",
   "name": "python3"
  },
  "language_info": {
   "codemirror_mode": {
    "name": "ipython",
    "version": 3
   },
   "file_extension": ".py",
   "mimetype": "text/x-python",
   "name": "python",
   "nbconvert_exporter": "python",
   "pygments_lexer": "ipython3",
   "version": "3.8.3"
  }
 },
 "nbformat": 4,
 "nbformat_minor": 4
}
